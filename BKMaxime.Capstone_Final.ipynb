{
 "cells": [
  {
   "attachments": {},
   "cell_type": "markdown",
   "metadata": {},
   "source": [
    "Introduction\n",
    "\n",
    "In this post, I’ll summarize the exploratory data analyses I performed, explain the feature engineering and reduction steps I utilized, and present my final models to classify tweets feed\n",
    "\n",
    "Problem Statement\n",
    "The goal of this project was to classify twitter feeds into breakfast time, lunch time or dinner time, using only features derived from text from ten news organizations\n",
    "\n",
    "Data Acquisition\n",
    "The first step of this project is to acquire live and historical twitter feeds via twitter API and store them as they are collected and use them to build my corpus. I wrote a function to collect 3,200 tweets at once(which is the limit per news organization). These data are stored as a csv file before processing and analysis in Pandas.\n",
    "\n",
    "\n",
    "Risks and Assumptions\n",
    "I’ve chosen my source based on some renowned news organizations and large corpus, but I recognize that these models may not generalize to news from other sources. Also it looks hard to differentiate classes out of my determined timeframe. The time interval I’m utilizing tweets is October 2017 onwards."
   ]
  },
  {
   "cell_type": "code",
   "execution_count": 1,
   "metadata": {},
   "outputs": [
    {
     "name": "stderr",
     "output_type": "stream",
     "text": [
      "//anaconda/envs/py36/lib/python3.6/site-packages/sklearn/cross_validation.py:41: DeprecationWarning: This module was deprecated in version 0.18 in favor of the model_selection module into which all the refactored classes and functions are moved. Also note that the interface of the new CV iterators are different from that of this module. This module will be removed in 0.20.\n",
      "  \"This module will be removed in 0.20.\", DeprecationWarning)\n"
     ]
    }
   ],
   "source": [
    "import twitter, re, datetime, pandas as pd, numpy as np\n",
    "from sklearn.feature_extraction.text import CountVectorizer,TfidfVectorizer\n",
    "from sklearn.linear_model import LogisticRegression\n",
    "import textblob\n",
    "from sklearn.model_selection import train_test_split, cross_val_score\n",
    "from sklearn.metrics import confusion_matrix, accuracy_score, classification_report\n",
    "\n",
    "import matplotlib.pyplot as plt\n",
    "%matplotlib inline\n",
    "import seaborn as sns\n",
    "\n",
    "from sklearn.ensemble import AdaBoostClassifier, GradientBoostingClassifier,AdaBoostRegressor,RandomForestRegressor,RandomForestClassifier,GradientBoostingRegressor\n",
    "from sklearn.tree import DecisionTreeClassifier\n",
    "from sklearn.model_selection import train_test_split,GridSearchCV\n",
    "import xgboost as xgb\n",
    "from xgboost.sklearn import XGBClassifier  \n",
    "from xgboost.sklearn import XGBRegressor\n",
    "from sklearn.svm import SVC"
   ]
  },
  {
   "cell_type": "code",
   "execution_count": 2,
   "metadata": {
    "collapsed": true
   },
   "outputs": [],
   "source": [
    "import twitter, re, datetime, pandas as pd\n",
    "\n",
    "# your keys go here:\n",
    "twitter_keys = {\n",
    "    'consumer_key':        'c2OWXk5ysfZHebnj7YQcKeVtR',\n",
    "    'consumer_secret':     'qECxF7fUrC0AFi4Ib7ye4dXlqFcJxbADox4z5xh9CSuRWbYugA',\n",
    "    'access_token_key':    '930174555032825862-cg1AJLOXuE61kTxYtrcwPN53czHhNby',\n",
    "    'access_token_secret': '4fRMZkII1IeZGY8VDEFqKuO12SDmtHEfj4aqnGJHCdG7Y'\n",
    "}\n",
    "\n",
    "api = twitter.Api(\n",
    "    consumer_key         =   twitter_keys['consumer_key'],\n",
    "    consumer_secret      =   twitter_keys['consumer_secret'],\n",
    "    access_token_key     =   twitter_keys['access_token_key'],\n",
    "    access_token_secret  =   twitter_keys['access_token_secret']\n",
    ")"
   ]
  },
  {
   "cell_type": "code",
   "execution_count": 3,
   "metadata": {
    "collapsed": true
   },
   "outputs": [],
   "source": [
    "class TweetMiner(object):\n",
    "\n",
    "    result_limit    =   20    \n",
    "    api             =   False\n",
    "    data            =   []\n",
    "    \n",
    "    def __init__(self, keys_dict, api, result_limit = 20):\n",
    "        \n",
    "        self.api = api\n",
    "        self.twitter_keys = keys_dict\n",
    "        \n",
    "        self.result_limit = result_limit\n",
    "        \n",
    "\n",
    "    def mine_user_tweets(self, user=\"GA\", mine_rewteets=False, max_id=None):\n",
    "\n",
    "        data           =  []\n",
    "        last_tweet_id  =  False\n",
    "\n",
    "        \n",
    "            \n",
    "        statuses   =   self.api.GetUserTimeline(screen_name=user, count=self.result_limit, max_id=max_id)        \n",
    "                \n",
    "        for item in statuses:\n",
    "\n",
    "            mined = {\n",
    "            'tweet_id': item.id,\n",
    "            'handle': item.user.name,\n",
    "            'retweet_count': item.retweet_count,\n",
    "            'text': item.text,\n",
    "            'mined_at': datetime.datetime.now(),\n",
    "            'created_at': item.created_at,\n",
    "        }\n",
    "\n",
    "\n",
    "            data.append(mined)\n",
    "                \n",
    "            \n",
    "        return data"
   ]
  },
  {
   "cell_type": "code",
   "execution_count": 4,
   "metadata": {
    "collapsed": true
   },
   "outputs": [],
   "source": [
    "miner = TweetMiner(keys_dict = twitter_keys, api = api, result_limit=200) "
   ]
  },
  {
   "cell_type": "code",
   "execution_count": 5,
   "metadata": {},
   "outputs": [
    {
     "data": {
      "text/html": [
       "<div>\n",
       "<style>\n",
       "    .dataframe thead tr:only-child th {\n",
       "        text-align: right;\n",
       "    }\n",
       "\n",
       "    .dataframe thead th {\n",
       "        text-align: left;\n",
       "    }\n",
       "\n",
       "    .dataframe tbody tr th {\n",
       "        vertical-align: top;\n",
       "    }\n",
       "</style>\n",
       "<table border=\"1\" class=\"dataframe\">\n",
       "  <thead>\n",
       "    <tr style=\"text-align: right;\">\n",
       "      <th></th>\n",
       "      <th>created_at</th>\n",
       "      <th>handle</th>\n",
       "      <th>mined_at</th>\n",
       "      <th>retweet_count</th>\n",
       "      <th>text</th>\n",
       "      <th>tweet_id</th>\n",
       "    </tr>\n",
       "  </thead>\n",
       "  <tbody>\n",
       "    <tr>\n",
       "      <th>0</th>\n",
       "      <td>Tue Dec 19 17:10:02 +0000 2017</td>\n",
       "      <td>CNN</td>\n",
       "      <td>2017-12-19 12:17:06.988705</td>\n",
       "      <td>159</td>\n",
       "      <td>A video capturing an unidentified object flyin...</td>\n",
       "      <td>943166546779578371</td>\n",
       "    </tr>\n",
       "    <tr>\n",
       "      <th>1</th>\n",
       "      <td>Tue Dec 19 17:03:00 +0000 2017</td>\n",
       "      <td>CNN</td>\n",
       "      <td>2017-12-19 12:17:06.988714</td>\n",
       "      <td>51</td>\n",
       "      <td>Here are five things you need to know about Tr...</td>\n",
       "      <td>943164776892465157</td>\n",
       "    </tr>\n",
       "    <tr>\n",
       "      <th>2</th>\n",
       "      <td>Tue Dec 19 17:00:03 +0000 2017</td>\n",
       "      <td>CNN</td>\n",
       "      <td>2017-12-19 12:17:06.988716</td>\n",
       "      <td>46</td>\n",
       "      <td>The Hall of Presidents at the Magic Kingdom Pa...</td>\n",
       "      <td>943164034433523714</td>\n",
       "    </tr>\n",
       "    <tr>\n",
       "      <th>3</th>\n",
       "      <td>Tue Dec 19 16:50:09 +0000 2017</td>\n",
       "      <td>CNN</td>\n",
       "      <td>2017-12-19 12:17:06.988718</td>\n",
       "      <td>79</td>\n",
       "      <td>The Winter Olympics, a royal wedding and reall...</td>\n",
       "      <td>943161540945072128</td>\n",
       "    </tr>\n",
       "    <tr>\n",
       "      <th>4</th>\n",
       "      <td>Tue Dec 19 16:40:11 +0000 2017</td>\n",
       "      <td>CNN</td>\n",
       "      <td>2017-12-19 12:17:06.988720</td>\n",
       "      <td>55</td>\n",
       "      <td>Atlanta is a top pick to host Amazon's second ...</td>\n",
       "      <td>943159032638033921</td>\n",
       "    </tr>\n",
       "    <tr>\n",
       "      <th>5</th>\n",
       "      <td>Tue Dec 19 16:30:10 +0000 2017</td>\n",
       "      <td>CNN</td>\n",
       "      <td>2017-12-19 12:17:06.988722</td>\n",
       "      <td>77</td>\n",
       "      <td>President Trump disputes a Washington Post sto...</td>\n",
       "      <td>943156511953555457</td>\n",
       "    </tr>\n",
       "    <tr>\n",
       "      <th>6</th>\n",
       "      <td>Tue Dec 19 16:20:05 +0000 2017</td>\n",
       "      <td>CNN</td>\n",
       "      <td>2017-12-19 12:17:06.988724</td>\n",
       "      <td>76</td>\n",
       "      <td>White House national security adviser H.R. McM...</td>\n",
       "      <td>943153978052956160</td>\n",
       "    </tr>\n",
       "    <tr>\n",
       "      <th>7</th>\n",
       "      <td>Tue Dec 19 16:10:14 +0000 2017</td>\n",
       "      <td>CNN</td>\n",
       "      <td>2017-12-19 12:17:06.988725</td>\n",
       "      <td>248</td>\n",
       "      <td>John Legend cast as Jesus Christ in upcoming N...</td>\n",
       "      <td>943151497407291393</td>\n",
       "    </tr>\n",
       "    <tr>\n",
       "      <th>8</th>\n",
       "      <td>Tue Dec 19 16:00:08 +0000 2017</td>\n",
       "      <td>CNN</td>\n",
       "      <td>2017-12-19 12:17:06.988727</td>\n",
       "      <td>474</td>\n",
       "      <td>House Speaker Paul Ryan says he has \"no concer...</td>\n",
       "      <td>943148956376293376</td>\n",
       "    </tr>\n",
       "    <tr>\n",
       "      <th>9</th>\n",
       "      <td>Tue Dec 19 15:54:31 +0000 2017</td>\n",
       "      <td>CNN</td>\n",
       "      <td>2017-12-19 12:17:06.988729</td>\n",
       "      <td>161</td>\n",
       "      <td>McDonald's plans to start selling a McVegan bu...</td>\n",
       "      <td>943147542019264513</td>\n",
       "    </tr>\n",
       "    <tr>\n",
       "      <th>10</th>\n",
       "      <td>Tue Dec 19 15:49:11 +0000 2017</td>\n",
       "      <td>CNN</td>\n",
       "      <td>2017-12-19 12:17:06.988730</td>\n",
       "      <td>176</td>\n",
       "      <td>K-pop fans are mourning the death of SHINee si...</td>\n",
       "      <td>943146199296724993</td>\n",
       "    </tr>\n",
       "    <tr>\n",
       "      <th>11</th>\n",
       "      <td>Tue Dec 19 15:35:08 +0000 2017</td>\n",
       "      <td>CNN</td>\n",
       "      <td>2017-12-19 12:17:06.988732</td>\n",
       "      <td>131</td>\n",
       "      <td>The Amtrak train that derailed Monday in Washi...</td>\n",
       "      <td>943142664379293696</td>\n",
       "    </tr>\n",
       "    <tr>\n",
       "      <th>12</th>\n",
       "      <td>Tue Dec 19 15:26:26 +0000 2017</td>\n",
       "      <td>CNN</td>\n",
       "      <td>2017-12-19 12:17:06.988734</td>\n",
       "      <td>54</td>\n",
       "      <td>House GOP leadership speaks ahead of today’s e...</td>\n",
       "      <td>943140475355193345</td>\n",
       "    </tr>\n",
       "    <tr>\n",
       "      <th>13</th>\n",
       "      <td>Tue Dec 19 15:20:16 +0000 2017</td>\n",
       "      <td>CNN</td>\n",
       "      <td>2017-12-19 12:17:06.988735</td>\n",
       "      <td>128</td>\n",
       "      <td>7 reasons why Republicans may have made a bad ...</td>\n",
       "      <td>943138921264926720</td>\n",
       "    </tr>\n",
       "    <tr>\n",
       "      <th>14</th>\n",
       "      <td>Tue Dec 19 15:10:11 +0000 2017</td>\n",
       "      <td>CNN</td>\n",
       "      <td>2017-12-19 12:17:06.988737</td>\n",
       "      <td>207</td>\n",
       "      <td>McDonald's plans to start selling a McVegan bu...</td>\n",
       "      <td>943136383492939781</td>\n",
       "    </tr>\n",
       "    <tr>\n",
       "      <th>15</th>\n",
       "      <td>Tue Dec 19 15:00:14 +0000 2017</td>\n",
       "      <td>CNN</td>\n",
       "      <td>2017-12-19 12:17:06.988739</td>\n",
       "      <td>75</td>\n",
       "      <td>What will the tax bill mean for your wallet? H...</td>\n",
       "      <td>943133880000876544</td>\n",
       "    </tr>\n",
       "    <tr>\n",
       "      <th>16</th>\n",
       "      <td>Tue Dec 19 14:50:07 +0000 2017</td>\n",
       "      <td>CNN</td>\n",
       "      <td>2017-12-19 12:17:06.988740</td>\n",
       "      <td>110</td>\n",
       "      <td>White House officially blames North Korea for ...</td>\n",
       "      <td>943131335610298368</td>\n",
       "    </tr>\n",
       "    <tr>\n",
       "      <th>17</th>\n",
       "      <td>Tue Dec 19 14:40:08 +0000 2017</td>\n",
       "      <td>CNN</td>\n",
       "      <td>2017-12-19 12:17:06.988742</td>\n",
       "      <td>981</td>\n",
       "      <td>President Trump's approval rating hits 35%, hi...</td>\n",
       "      <td>943128824535044096</td>\n",
       "    </tr>\n",
       "    <tr>\n",
       "      <th>18</th>\n",
       "      <td>Tue Dec 19 14:30:06 +0000 2017</td>\n",
       "      <td>CNN</td>\n",
       "      <td>2017-12-19 12:17:06.988744</td>\n",
       "      <td>387</td>\n",
       "      <td>Just 33% of Americans say they favor Republica...</td>\n",
       "      <td>943126298104422400</td>\n",
       "    </tr>\n",
       "    <tr>\n",
       "      <th>19</th>\n",
       "      <td>Tue Dec 19 14:20:07 +0000 2017</td>\n",
       "      <td>CNN</td>\n",
       "      <td>2017-12-19 12:17:06.988745</td>\n",
       "      <td>108</td>\n",
       "      <td>Senate Intelligence Chairman Richard Burr says...</td>\n",
       "      <td>943123784659292161</td>\n",
       "    </tr>\n",
       "    <tr>\n",
       "      <th>20</th>\n",
       "      <td>Tue Dec 19 14:10:47 +0000 2017</td>\n",
       "      <td>CNN</td>\n",
       "      <td>2017-12-19 12:17:06.988747</td>\n",
       "      <td>281</td>\n",
       "      <td>RT @NewDay: Rep. Tim Ryan on his opposition to...</td>\n",
       "      <td>943121434746015744</td>\n",
       "    </tr>\n",
       "    <tr>\n",
       "      <th>21</th>\n",
       "      <td>Tue Dec 19 14:10:09 +0000 2017</td>\n",
       "      <td>CNN</td>\n",
       "      <td>2017-12-19 12:17:06.988748</td>\n",
       "      <td>198</td>\n",
       "      <td>The House is expected to vote on the final ver...</td>\n",
       "      <td>943121277623128066</td>\n",
       "    </tr>\n",
       "    <tr>\n",
       "      <th>22</th>\n",
       "      <td>Tue Dec 19 14:03:30 +0000 2017</td>\n",
       "      <td>CNN</td>\n",
       "      <td>2017-12-19 12:17:06.988750</td>\n",
       "      <td>100</td>\n",
       "      <td>President Donald Trump and his administration ...</td>\n",
       "      <td>943119603823267840</td>\n",
       "    </tr>\n",
       "    <tr>\n",
       "      <th>23</th>\n",
       "      <td>Tue Dec 19 13:51:55 +0000 2017</td>\n",
       "      <td>CNN</td>\n",
       "      <td>2017-12-19 12:17:06.988754</td>\n",
       "      <td>134</td>\n",
       "      <td>5 things for Tuesday:\\n\\n- Amtrak crash\\n- Tru...</td>\n",
       "      <td>943116686814777344</td>\n",
       "    </tr>\n",
       "    <tr>\n",
       "      <th>24</th>\n",
       "      <td>Tue Dec 19 13:51:45 +0000 2017</td>\n",
       "      <td>CNN</td>\n",
       "      <td>2017-12-19 12:17:06.988756</td>\n",
       "      <td>70</td>\n",
       "      <td>Is the science and technology seen in the \"Sta...</td>\n",
       "      <td>943116644758577152</td>\n",
       "    </tr>\n",
       "    <tr>\n",
       "      <th>25</th>\n",
       "      <td>Tue Dec 19 13:39:11 +0000 2017</td>\n",
       "      <td>CNN</td>\n",
       "      <td>2017-12-19 12:17:06.988757</td>\n",
       "      <td>84</td>\n",
       "      <td>2017 in politics, GIF-wrapped https://t.co/eMF...</td>\n",
       "      <td>943113482928640001</td>\n",
       "    </tr>\n",
       "    <tr>\n",
       "      <th>26</th>\n",
       "      <td>Tue Dec 19 13:31:40 +0000 2017</td>\n",
       "      <td>CNN</td>\n",
       "      <td>2017-12-19 12:17:06.988759</td>\n",
       "      <td>308</td>\n",
       "      <td>A former Pentagon official who led a recently ...</td>\n",
       "      <td>943111592593514496</td>\n",
       "    </tr>\n",
       "    <tr>\n",
       "      <th>27</th>\n",
       "      <td>Tue Dec 19 13:17:38 +0000 2017</td>\n",
       "      <td>CNN</td>\n",
       "      <td>2017-12-19 12:17:06.988761</td>\n",
       "      <td>133</td>\n",
       "      <td>The day Republicans have been looking for has ...</td>\n",
       "      <td>943108062113685504</td>\n",
       "    </tr>\n",
       "    <tr>\n",
       "      <th>28</th>\n",
       "      <td>Tue Dec 19 13:15:10 +0000 2017</td>\n",
       "      <td>CNN</td>\n",
       "      <td>2017-12-19 12:17:06.988762</td>\n",
       "      <td>76</td>\n",
       "      <td>The Saudi Arabia-led coalition fighting Houthi...</td>\n",
       "      <td>943107442052878336</td>\n",
       "    </tr>\n",
       "    <tr>\n",
       "      <th>29</th>\n",
       "      <td>Tue Dec 19 13:05:51 +0000 2017</td>\n",
       "      <td>CNN</td>\n",
       "      <td>2017-12-19 12:17:06.988763</td>\n",
       "      <td>5049</td>\n",
       "      <td>A video capturing an unidentified object flyin...</td>\n",
       "      <td>943105094345723904</td>\n",
       "    </tr>\n",
       "    <tr>\n",
       "      <th>...</th>\n",
       "      <td>...</td>\n",
       "      <td>...</td>\n",
       "      <td>...</td>\n",
       "      <td>...</td>\n",
       "      <td>...</td>\n",
       "      <td>...</td>\n",
       "    </tr>\n",
       "    <tr>\n",
       "      <th>170</th>\n",
       "      <td>Mon Dec 18 17:31:55 +0000 2017</td>\n",
       "      <td>CNN</td>\n",
       "      <td>2017-12-19 12:17:06.988993</td>\n",
       "      <td>109</td>\n",
       "      <td>Missing Korean War soldier given proper burial...</td>\n",
       "      <td>942809667385876480</td>\n",
       "    </tr>\n",
       "    <tr>\n",
       "      <th>171</th>\n",
       "      <td>Mon Dec 18 17:23:49 +0000 2017</td>\n",
       "      <td>CNN</td>\n",
       "      <td>2017-12-19 12:17:06.988994</td>\n",
       "      <td>186</td>\n",
       "      <td>Sheriff: There are multiple fatalities inside ...</td>\n",
       "      <td>942807625892352000</td>\n",
       "    </tr>\n",
       "    <tr>\n",
       "      <th>172</th>\n",
       "      <td>Mon Dec 18 17:16:47 +0000 2017</td>\n",
       "      <td>CNN</td>\n",
       "      <td>2017-12-19 12:17:06.988995</td>\n",
       "      <td>99</td>\n",
       "      <td>Russian President Vladimir Putin thanks Presid...</td>\n",
       "      <td>942805857338839040</td>\n",
       "    </tr>\n",
       "    <tr>\n",
       "      <th>173</th>\n",
       "      <td>Mon Dec 18 17:12:46 +0000 2017</td>\n",
       "      <td>CNN</td>\n",
       "      <td>2017-12-19 12:17:06.988998</td>\n",
       "      <td>642</td>\n",
       "      <td>What we know about the Amtrak passenger train ...</td>\n",
       "      <td>942804847480451078</td>\n",
       "    </tr>\n",
       "    <tr>\n",
       "      <th>174</th>\n",
       "      <td>Mon Dec 18 17:02:44 +0000 2017</td>\n",
       "      <td>CNN</td>\n",
       "      <td>2017-12-19 12:17:06.989000</td>\n",
       "      <td>94</td>\n",
       "      <td>The Pentagon has researched the possible exist...</td>\n",
       "      <td>942802319971946497</td>\n",
       "    </tr>\n",
       "    <tr>\n",
       "      <th>175</th>\n",
       "      <td>Mon Dec 18 16:55:44 +0000 2017</td>\n",
       "      <td>CNN</td>\n",
       "      <td>2017-12-19 12:17:06.989002</td>\n",
       "      <td>81</td>\n",
       "      <td>RT @CNNnewsroom: Washington train derailment w...</td>\n",
       "      <td>942800558422876160</td>\n",
       "    </tr>\n",
       "    <tr>\n",
       "      <th>176</th>\n",
       "      <td>Mon Dec 18 16:51:16 +0000 2017</td>\n",
       "      <td>CNN</td>\n",
       "      <td>2017-12-19 12:17:06.989003</td>\n",
       "      <td>464</td>\n",
       "      <td>Train derailment eyewitness: “There were cars ...</td>\n",
       "      <td>942799437168087040</td>\n",
       "    </tr>\n",
       "    <tr>\n",
       "      <th>177</th>\n",
       "      <td>Mon Dec 18 16:48:06 +0000 2017</td>\n",
       "      <td>CNN</td>\n",
       "      <td>2017-12-19 12:17:06.989004</td>\n",
       "      <td>91</td>\n",
       "      <td>Mexican journalist in US detention says his li...</td>\n",
       "      <td>942798639314931712</td>\n",
       "    </tr>\n",
       "    <tr>\n",
       "      <th>178</th>\n",
       "      <td>Mon Dec 18 16:47:41 +0000 2017</td>\n",
       "      <td>CNN</td>\n",
       "      <td>2017-12-19 12:17:06.989006</td>\n",
       "      <td>212</td>\n",
       "      <td>“Injures and casualties reported,” Pierce Coun...</td>\n",
       "      <td>942798535824740353</td>\n",
       "    </tr>\n",
       "    <tr>\n",
       "      <th>179</th>\n",
       "      <td>Mon Dec 18 16:38:17 +0000 2017</td>\n",
       "      <td>CNN</td>\n",
       "      <td>2017-12-19 12:17:06.989007</td>\n",
       "      <td>138</td>\n",
       "      <td>All southbound lanes of Interstate 5 are close...</td>\n",
       "      <td>942796169247412227</td>\n",
       "    </tr>\n",
       "    <tr>\n",
       "      <th>180</th>\n",
       "      <td>Mon Dec 18 16:35:07 +0000 2017</td>\n",
       "      <td>CNN</td>\n",
       "      <td>2017-12-19 12:17:06.989008</td>\n",
       "      <td>126</td>\n",
       "      <td>JUST IN: ESPN president John Skipper resigns, ...</td>\n",
       "      <td>942795372392525824</td>\n",
       "    </tr>\n",
       "    <tr>\n",
       "      <th>181</th>\n",
       "      <td>Mon Dec 18 16:26:18 +0000 2017</td>\n",
       "      <td>CNN</td>\n",
       "      <td>2017-12-19 12:17:06.989009</td>\n",
       "      <td>1679</td>\n",
       "      <td>JUST IN: An Amtrak train car derailed and is d...</td>\n",
       "      <td>942793151621812225</td>\n",
       "    </tr>\n",
       "    <tr>\n",
       "      <th>182</th>\n",
       "      <td>Mon Dec 18 16:19:07 +0000 2017</td>\n",
       "      <td>CNN</td>\n",
       "      <td>2017-12-19 12:17:06.989011</td>\n",
       "      <td>149</td>\n",
       "      <td>Turkish President Erdogan defies US President ...</td>\n",
       "      <td>942791343750905857</td>\n",
       "    </tr>\n",
       "    <tr>\n",
       "      <th>183</th>\n",
       "      <td>Mon Dec 18 16:04:36 +0000 2017</td>\n",
       "      <td>CNN</td>\n",
       "      <td>2017-12-19 12:17:06.989012</td>\n",
       "      <td>178</td>\n",
       "      <td>This is how Australia's prime minister went sw...</td>\n",
       "      <td>942787693267898368</td>\n",
       "    </tr>\n",
       "    <tr>\n",
       "      <th>184</th>\n",
       "      <td>Mon Dec 18 15:53:15 +0000 2017</td>\n",
       "      <td>CNN</td>\n",
       "      <td>2017-12-19 12:17:06.989013</td>\n",
       "      <td>77</td>\n",
       "      <td>\"PBS made a huge mistake,\" Tavis Smiley says, ...</td>\n",
       "      <td>942784835210436616</td>\n",
       "    </tr>\n",
       "    <tr>\n",
       "      <th>185</th>\n",
       "      <td>Mon Dec 18 15:40:07 +0000 2017</td>\n",
       "      <td>CNN</td>\n",
       "      <td>2017-12-19 12:17:06.989015</td>\n",
       "      <td>75</td>\n",
       "      <td>President Trump is calm about the Russia inves...</td>\n",
       "      <td>942781529041899520</td>\n",
       "    </tr>\n",
       "    <tr>\n",
       "      <th>186</th>\n",
       "      <td>Mon Dec 18 15:30:04 +0000 2017</td>\n",
       "      <td>CNN</td>\n",
       "      <td>2017-12-19 12:17:06.989020</td>\n",
       "      <td>186</td>\n",
       "      <td>Sen. Joe Manchin on Sen. Al Franken: \"I defini...</td>\n",
       "      <td>942778999452954624</td>\n",
       "    </tr>\n",
       "    <tr>\n",
       "      <th>187</th>\n",
       "      <td>Mon Dec 18 15:23:20 +0000 2017</td>\n",
       "      <td>CNN</td>\n",
       "      <td>2017-12-19 12:17:06.989033</td>\n",
       "      <td>403</td>\n",
       "      <td>These 16 states are running out of funding for...</td>\n",
       "      <td>942777305838927872</td>\n",
       "    </tr>\n",
       "    <tr>\n",
       "      <th>188</th>\n",
       "      <td>Mon Dec 18 15:11:03 +0000 2017</td>\n",
       "      <td>CNN</td>\n",
       "      <td>2017-12-19 12:17:06.989035</td>\n",
       "      <td>201</td>\n",
       "      <td>JUST IN: One person arrested after car tries t...</td>\n",
       "      <td>942774217141088257</td>\n",
       "    </tr>\n",
       "    <tr>\n",
       "      <th>189</th>\n",
       "      <td>Mon Dec 18 15:10:16 +0000 2017</td>\n",
       "      <td>CNN</td>\n",
       "      <td>2017-12-19 12:17:06.989036</td>\n",
       "      <td>101</td>\n",
       "      <td>Is the science and technology seen in the \"Sta...</td>\n",
       "      <td>942774016535908353</td>\n",
       "    </tr>\n",
       "    <tr>\n",
       "      <th>190</th>\n",
       "      <td>Mon Dec 18 14:55:03 +0000 2017</td>\n",
       "      <td>CNN</td>\n",
       "      <td>2017-12-19 12:17:06.989037</td>\n",
       "      <td>144</td>\n",
       "      <td>Puerto Rico's governor has ordered a review of...</td>\n",
       "      <td>942770189917138945</td>\n",
       "    </tr>\n",
       "    <tr>\n",
       "      <th>191</th>\n",
       "      <td>Mon Dec 18 14:46:11 +0000 2017</td>\n",
       "      <td>CNN</td>\n",
       "      <td>2017-12-19 12:17:06.989039</td>\n",
       "      <td>171</td>\n",
       "      <td>Young female executives are still earning less...</td>\n",
       "      <td>942767955376472064</td>\n",
       "    </tr>\n",
       "    <tr>\n",
       "      <th>192</th>\n",
       "      <td>Mon Dec 18 14:34:03 +0000 2017</td>\n",
       "      <td>CNN</td>\n",
       "      <td>2017-12-19 12:17:06.989040</td>\n",
       "      <td>89</td>\n",
       "      <td>Republican Sen. John McCain returned to Arizon...</td>\n",
       "      <td>942764905253560320</td>\n",
       "    </tr>\n",
       "    <tr>\n",
       "      <th>193</th>\n",
       "      <td>Mon Dec 18 14:29:05 +0000 2017</td>\n",
       "      <td>CNN</td>\n",
       "      <td>2017-12-19 12:17:06.989042</td>\n",
       "      <td>98</td>\n",
       "      <td>Top architects join forces to build elaborate ...</td>\n",
       "      <td>942763655078309888</td>\n",
       "    </tr>\n",
       "    <tr>\n",
       "      <th>194</th>\n",
       "      <td>Mon Dec 18 14:17:45 +0000 2017</td>\n",
       "      <td>CNN</td>\n",
       "      <td>2017-12-19 12:17:06.989043</td>\n",
       "      <td>145</td>\n",
       "      <td>Hundreds have come down with a stomach illness...</td>\n",
       "      <td>942760799944237057</td>\n",
       "    </tr>\n",
       "    <tr>\n",
       "      <th>195</th>\n",
       "      <td>Mon Dec 18 14:15:32 +0000 2017</td>\n",
       "      <td>CNN</td>\n",
       "      <td>2017-12-19 12:17:06.989044</td>\n",
       "      <td>137</td>\n",
       "      <td>RT @NewDay: Last night, Amy Wright won Hero of...</td>\n",
       "      <td>942760244006047745</td>\n",
       "    </tr>\n",
       "    <tr>\n",
       "      <th>196</th>\n",
       "      <td>Mon Dec 18 14:10:47 +0000 2017</td>\n",
       "      <td>CNN</td>\n",
       "      <td>2017-12-19 12:17:06.989046</td>\n",
       "      <td>215</td>\n",
       "      <td>The photos that shaped 2017 https://t.co/TI6kW...</td>\n",
       "      <td>942759050474872835</td>\n",
       "    </tr>\n",
       "    <tr>\n",
       "      <th>197</th>\n",
       "      <td>Mon Dec 18 14:03:18 +0000 2017</td>\n",
       "      <td>CNN</td>\n",
       "      <td>2017-12-19 12:17:06.989047</td>\n",
       "      <td>162</td>\n",
       "      <td>Here’s a comparison between the current 2018 t...</td>\n",
       "      <td>942757166502633473</td>\n",
       "    </tr>\n",
       "    <tr>\n",
       "      <th>198</th>\n",
       "      <td>Mon Dec 18 14:02:44 +0000 2017</td>\n",
       "      <td>CNN</td>\n",
       "      <td>2017-12-19 12:17:06.989049</td>\n",
       "      <td>56</td>\n",
       "      <td>These airports have the happiest travelers htt...</td>\n",
       "      <td>942757024223330305</td>\n",
       "    </tr>\n",
       "    <tr>\n",
       "      <th>199</th>\n",
       "      <td>Mon Dec 18 13:54:44 +0000 2017</td>\n",
       "      <td>CNN</td>\n",
       "      <td>2017-12-19 12:17:06.989055</td>\n",
       "      <td>154</td>\n",
       "      <td>The Thomas Fire, which has devastated swathes ...</td>\n",
       "      <td>942755009342705664</td>\n",
       "    </tr>\n",
       "  </tbody>\n",
       "</table>\n",
       "<p>200 rows × 6 columns</p>\n",
       "</div>"
      ],
      "text/plain": [
       "                         created_at handle                   mined_at  \\\n",
       "0    Tue Dec 19 17:10:02 +0000 2017    CNN 2017-12-19 12:17:06.988705   \n",
       "1    Tue Dec 19 17:03:00 +0000 2017    CNN 2017-12-19 12:17:06.988714   \n",
       "2    Tue Dec 19 17:00:03 +0000 2017    CNN 2017-12-19 12:17:06.988716   \n",
       "3    Tue Dec 19 16:50:09 +0000 2017    CNN 2017-12-19 12:17:06.988718   \n",
       "4    Tue Dec 19 16:40:11 +0000 2017    CNN 2017-12-19 12:17:06.988720   \n",
       "5    Tue Dec 19 16:30:10 +0000 2017    CNN 2017-12-19 12:17:06.988722   \n",
       "6    Tue Dec 19 16:20:05 +0000 2017    CNN 2017-12-19 12:17:06.988724   \n",
       "7    Tue Dec 19 16:10:14 +0000 2017    CNN 2017-12-19 12:17:06.988725   \n",
       "8    Tue Dec 19 16:00:08 +0000 2017    CNN 2017-12-19 12:17:06.988727   \n",
       "9    Tue Dec 19 15:54:31 +0000 2017    CNN 2017-12-19 12:17:06.988729   \n",
       "10   Tue Dec 19 15:49:11 +0000 2017    CNN 2017-12-19 12:17:06.988730   \n",
       "11   Tue Dec 19 15:35:08 +0000 2017    CNN 2017-12-19 12:17:06.988732   \n",
       "12   Tue Dec 19 15:26:26 +0000 2017    CNN 2017-12-19 12:17:06.988734   \n",
       "13   Tue Dec 19 15:20:16 +0000 2017    CNN 2017-12-19 12:17:06.988735   \n",
       "14   Tue Dec 19 15:10:11 +0000 2017    CNN 2017-12-19 12:17:06.988737   \n",
       "15   Tue Dec 19 15:00:14 +0000 2017    CNN 2017-12-19 12:17:06.988739   \n",
       "16   Tue Dec 19 14:50:07 +0000 2017    CNN 2017-12-19 12:17:06.988740   \n",
       "17   Tue Dec 19 14:40:08 +0000 2017    CNN 2017-12-19 12:17:06.988742   \n",
       "18   Tue Dec 19 14:30:06 +0000 2017    CNN 2017-12-19 12:17:06.988744   \n",
       "19   Tue Dec 19 14:20:07 +0000 2017    CNN 2017-12-19 12:17:06.988745   \n",
       "20   Tue Dec 19 14:10:47 +0000 2017    CNN 2017-12-19 12:17:06.988747   \n",
       "21   Tue Dec 19 14:10:09 +0000 2017    CNN 2017-12-19 12:17:06.988748   \n",
       "22   Tue Dec 19 14:03:30 +0000 2017    CNN 2017-12-19 12:17:06.988750   \n",
       "23   Tue Dec 19 13:51:55 +0000 2017    CNN 2017-12-19 12:17:06.988754   \n",
       "24   Tue Dec 19 13:51:45 +0000 2017    CNN 2017-12-19 12:17:06.988756   \n",
       "25   Tue Dec 19 13:39:11 +0000 2017    CNN 2017-12-19 12:17:06.988757   \n",
       "26   Tue Dec 19 13:31:40 +0000 2017    CNN 2017-12-19 12:17:06.988759   \n",
       "27   Tue Dec 19 13:17:38 +0000 2017    CNN 2017-12-19 12:17:06.988761   \n",
       "28   Tue Dec 19 13:15:10 +0000 2017    CNN 2017-12-19 12:17:06.988762   \n",
       "29   Tue Dec 19 13:05:51 +0000 2017    CNN 2017-12-19 12:17:06.988763   \n",
       "..                              ...    ...                        ...   \n",
       "170  Mon Dec 18 17:31:55 +0000 2017    CNN 2017-12-19 12:17:06.988993   \n",
       "171  Mon Dec 18 17:23:49 +0000 2017    CNN 2017-12-19 12:17:06.988994   \n",
       "172  Mon Dec 18 17:16:47 +0000 2017    CNN 2017-12-19 12:17:06.988995   \n",
       "173  Mon Dec 18 17:12:46 +0000 2017    CNN 2017-12-19 12:17:06.988998   \n",
       "174  Mon Dec 18 17:02:44 +0000 2017    CNN 2017-12-19 12:17:06.989000   \n",
       "175  Mon Dec 18 16:55:44 +0000 2017    CNN 2017-12-19 12:17:06.989002   \n",
       "176  Mon Dec 18 16:51:16 +0000 2017    CNN 2017-12-19 12:17:06.989003   \n",
       "177  Mon Dec 18 16:48:06 +0000 2017    CNN 2017-12-19 12:17:06.989004   \n",
       "178  Mon Dec 18 16:47:41 +0000 2017    CNN 2017-12-19 12:17:06.989006   \n",
       "179  Mon Dec 18 16:38:17 +0000 2017    CNN 2017-12-19 12:17:06.989007   \n",
       "180  Mon Dec 18 16:35:07 +0000 2017    CNN 2017-12-19 12:17:06.989008   \n",
       "181  Mon Dec 18 16:26:18 +0000 2017    CNN 2017-12-19 12:17:06.989009   \n",
       "182  Mon Dec 18 16:19:07 +0000 2017    CNN 2017-12-19 12:17:06.989011   \n",
       "183  Mon Dec 18 16:04:36 +0000 2017    CNN 2017-12-19 12:17:06.989012   \n",
       "184  Mon Dec 18 15:53:15 +0000 2017    CNN 2017-12-19 12:17:06.989013   \n",
       "185  Mon Dec 18 15:40:07 +0000 2017    CNN 2017-12-19 12:17:06.989015   \n",
       "186  Mon Dec 18 15:30:04 +0000 2017    CNN 2017-12-19 12:17:06.989020   \n",
       "187  Mon Dec 18 15:23:20 +0000 2017    CNN 2017-12-19 12:17:06.989033   \n",
       "188  Mon Dec 18 15:11:03 +0000 2017    CNN 2017-12-19 12:17:06.989035   \n",
       "189  Mon Dec 18 15:10:16 +0000 2017    CNN 2017-12-19 12:17:06.989036   \n",
       "190  Mon Dec 18 14:55:03 +0000 2017    CNN 2017-12-19 12:17:06.989037   \n",
       "191  Mon Dec 18 14:46:11 +0000 2017    CNN 2017-12-19 12:17:06.989039   \n",
       "192  Mon Dec 18 14:34:03 +0000 2017    CNN 2017-12-19 12:17:06.989040   \n",
       "193  Mon Dec 18 14:29:05 +0000 2017    CNN 2017-12-19 12:17:06.989042   \n",
       "194  Mon Dec 18 14:17:45 +0000 2017    CNN 2017-12-19 12:17:06.989043   \n",
       "195  Mon Dec 18 14:15:32 +0000 2017    CNN 2017-12-19 12:17:06.989044   \n",
       "196  Mon Dec 18 14:10:47 +0000 2017    CNN 2017-12-19 12:17:06.989046   \n",
       "197  Mon Dec 18 14:03:18 +0000 2017    CNN 2017-12-19 12:17:06.989047   \n",
       "198  Mon Dec 18 14:02:44 +0000 2017    CNN 2017-12-19 12:17:06.989049   \n",
       "199  Mon Dec 18 13:54:44 +0000 2017    CNN 2017-12-19 12:17:06.989055   \n",
       "\n",
       "     retweet_count                                               text  \\\n",
       "0              159  A video capturing an unidentified object flyin...   \n",
       "1               51  Here are five things you need to know about Tr...   \n",
       "2               46  The Hall of Presidents at the Magic Kingdom Pa...   \n",
       "3               79  The Winter Olympics, a royal wedding and reall...   \n",
       "4               55  Atlanta is a top pick to host Amazon's second ...   \n",
       "5               77  President Trump disputes a Washington Post sto...   \n",
       "6               76  White House national security adviser H.R. McM...   \n",
       "7              248  John Legend cast as Jesus Christ in upcoming N...   \n",
       "8              474  House Speaker Paul Ryan says he has \"no concer...   \n",
       "9              161  McDonald's plans to start selling a McVegan bu...   \n",
       "10             176  K-pop fans are mourning the death of SHINee si...   \n",
       "11             131  The Amtrak train that derailed Monday in Washi...   \n",
       "12              54  House GOP leadership speaks ahead of today’s e...   \n",
       "13             128  7 reasons why Republicans may have made a bad ...   \n",
       "14             207  McDonald's plans to start selling a McVegan bu...   \n",
       "15              75  What will the tax bill mean for your wallet? H...   \n",
       "16             110  White House officially blames North Korea for ...   \n",
       "17             981  President Trump's approval rating hits 35%, hi...   \n",
       "18             387  Just 33% of Americans say they favor Republica...   \n",
       "19             108  Senate Intelligence Chairman Richard Burr says...   \n",
       "20             281  RT @NewDay: Rep. Tim Ryan on his opposition to...   \n",
       "21             198  The House is expected to vote on the final ver...   \n",
       "22             100  President Donald Trump and his administration ...   \n",
       "23             134  5 things for Tuesday:\\n\\n- Amtrak crash\\n- Tru...   \n",
       "24              70  Is the science and technology seen in the \"Sta...   \n",
       "25              84  2017 in politics, GIF-wrapped https://t.co/eMF...   \n",
       "26             308  A former Pentagon official who led a recently ...   \n",
       "27             133  The day Republicans have been looking for has ...   \n",
       "28              76  The Saudi Arabia-led coalition fighting Houthi...   \n",
       "29            5049  A video capturing an unidentified object flyin...   \n",
       "..             ...                                                ...   \n",
       "170            109  Missing Korean War soldier given proper burial...   \n",
       "171            186  Sheriff: There are multiple fatalities inside ...   \n",
       "172             99  Russian President Vladimir Putin thanks Presid...   \n",
       "173            642  What we know about the Amtrak passenger train ...   \n",
       "174             94  The Pentagon has researched the possible exist...   \n",
       "175             81  RT @CNNnewsroom: Washington train derailment w...   \n",
       "176            464  Train derailment eyewitness: “There were cars ...   \n",
       "177             91  Mexican journalist in US detention says his li...   \n",
       "178            212  “Injures and casualties reported,” Pierce Coun...   \n",
       "179            138  All southbound lanes of Interstate 5 are close...   \n",
       "180            126  JUST IN: ESPN president John Skipper resigns, ...   \n",
       "181           1679  JUST IN: An Amtrak train car derailed and is d...   \n",
       "182            149  Turkish President Erdogan defies US President ...   \n",
       "183            178  This is how Australia's prime minister went sw...   \n",
       "184             77  \"PBS made a huge mistake,\" Tavis Smiley says, ...   \n",
       "185             75  President Trump is calm about the Russia inves...   \n",
       "186            186  Sen. Joe Manchin on Sen. Al Franken: \"I defini...   \n",
       "187            403  These 16 states are running out of funding for...   \n",
       "188            201  JUST IN: One person arrested after car tries t...   \n",
       "189            101  Is the science and technology seen in the \"Sta...   \n",
       "190            144  Puerto Rico's governor has ordered a review of...   \n",
       "191            171  Young female executives are still earning less...   \n",
       "192             89  Republican Sen. John McCain returned to Arizon...   \n",
       "193             98  Top architects join forces to build elaborate ...   \n",
       "194            145  Hundreds have come down with a stomach illness...   \n",
       "195            137  RT @NewDay: Last night, Amy Wright won Hero of...   \n",
       "196            215  The photos that shaped 2017 https://t.co/TI6kW...   \n",
       "197            162  Here’s a comparison between the current 2018 t...   \n",
       "198             56  These airports have the happiest travelers htt...   \n",
       "199            154  The Thomas Fire, which has devastated swathes ...   \n",
       "\n",
       "               tweet_id  \n",
       "0    943166546779578371  \n",
       "1    943164776892465157  \n",
       "2    943164034433523714  \n",
       "3    943161540945072128  \n",
       "4    943159032638033921  \n",
       "5    943156511953555457  \n",
       "6    943153978052956160  \n",
       "7    943151497407291393  \n",
       "8    943148956376293376  \n",
       "9    943147542019264513  \n",
       "10   943146199296724993  \n",
       "11   943142664379293696  \n",
       "12   943140475355193345  \n",
       "13   943138921264926720  \n",
       "14   943136383492939781  \n",
       "15   943133880000876544  \n",
       "16   943131335610298368  \n",
       "17   943128824535044096  \n",
       "18   943126298104422400  \n",
       "19   943123784659292161  \n",
       "20   943121434746015744  \n",
       "21   943121277623128066  \n",
       "22   943119603823267840  \n",
       "23   943116686814777344  \n",
       "24   943116644758577152  \n",
       "25   943113482928640001  \n",
       "26   943111592593514496  \n",
       "27   943108062113685504  \n",
       "28   943107442052878336  \n",
       "29   943105094345723904  \n",
       "..                  ...  \n",
       "170  942809667385876480  \n",
       "171  942807625892352000  \n",
       "172  942805857338839040  \n",
       "173  942804847480451078  \n",
       "174  942802319971946497  \n",
       "175  942800558422876160  \n",
       "176  942799437168087040  \n",
       "177  942798639314931712  \n",
       "178  942798535824740353  \n",
       "179  942796169247412227  \n",
       "180  942795372392525824  \n",
       "181  942793151621812225  \n",
       "182  942791343750905857  \n",
       "183  942787693267898368  \n",
       "184  942784835210436616  \n",
       "185  942781529041899520  \n",
       "186  942778999452954624  \n",
       "187  942777305838927872  \n",
       "188  942774217141088257  \n",
       "189  942774016535908353  \n",
       "190  942770189917138945  \n",
       "191  942767955376472064  \n",
       "192  942764905253560320  \n",
       "193  942763655078309888  \n",
       "194  942760799944237057  \n",
       "195  942760244006047745  \n",
       "196  942759050474872835  \n",
       "197  942757166502633473  \n",
       "198  942757024223330305  \n",
       "199  942755009342705664  \n",
       "\n",
       "[200 rows x 6 columns]"
      ]
     },
     "execution_count": 5,
     "metadata": {},
     "output_type": "execute_result"
    }
   ],
   "source": [
    "cnn_tweets = miner.mine_user_tweets(user='CNN')\n",
    "cnn_df2= pd.DataFrame(cnn_tweets)\n",
    "cnn_df2"
   ]
  },
  {
   "cell_type": "code",
   "execution_count": 6,
   "metadata": {
    "collapsed": true
   },
   "outputs": [],
   "source": [
    "newmaxid = 942755009342705664"
   ]
  },
  {
   "cell_type": "code",
   "execution_count": 7,
   "metadata": {
    "collapsed": true
   },
   "outputs": [],
   "source": [
    "#adds to existing df called cnn_df\n",
    "for _ in range(0,15):\n",
    "    w_tweets = miner.mine_user_tweets(user='CNN',max_id=newmaxid)\n",
    "    w_dfx = pd.DataFrame(w_tweets)\n",
    "    cnn_df2  = pd.concat([cnn_df2, w_dfx])\n",
    "    newmaxid =  cnn_df2.tweet_id.min() - 1"
   ]
  },
  {
   "cell_type": "code",
   "execution_count": 8,
   "metadata": {},
   "outputs": [
    {
     "data": {
      "text/plain": [
       "(3200, 6)"
      ]
     },
     "execution_count": 8,
     "metadata": {},
     "output_type": "execute_result"
    }
   ],
   "source": [
    " cnn_df2.shape"
   ]
  },
  {
   "cell_type": "code",
   "execution_count": 9,
   "metadata": {
    "collapsed": true
   },
   "outputs": [],
   "source": [
    "twitter_final = pd.read_csv('twitter_final.csv')"
   ]
  },
  {
   "cell_type": "code",
   "execution_count": 10,
   "metadata": {},
   "outputs": [
    {
     "data": {
      "text/plain": [
       "(32061, 6)"
      ]
     },
     "execution_count": 10,
     "metadata": {},
     "output_type": "execute_result"
    }
   ],
   "source": [
    "twitter_final.shape"
   ]
  },
  {
   "cell_type": "code",
   "execution_count": 11,
   "metadata": {},
   "outputs": [
    {
     "data": {
      "text/plain": [
       "(32000, 6)"
      ]
     },
     "execution_count": 11,
     "metadata": {},
     "output_type": "execute_result"
    }
   ],
   "source": [
    "twitter_final.drop_duplicates('text').shape"
   ]
  },
  {
   "cell_type": "code",
   "execution_count": 16,
   "metadata": {
    "collapsed": true
   },
   "outputs": [],
   "source": [
    "twitter_final2 = twitter_final.copy()"
   ]
  },
  {
   "cell_type": "code",
   "execution_count": 17,
   "metadata": {},
   "outputs": [],
   "source": [
    "twitter_final2 =twitter_final2.drop_duplicates('text')"
   ]
  },
  {
   "cell_type": "code",
   "execution_count": 18,
   "metadata": {},
   "outputs": [
    {
     "data": {
      "text/html": [
       "<div>\n",
       "<style>\n",
       "    .dataframe thead tr:only-child th {\n",
       "        text-align: right;\n",
       "    }\n",
       "\n",
       "    .dataframe thead th {\n",
       "        text-align: left;\n",
       "    }\n",
       "\n",
       "    .dataframe tbody tr th {\n",
       "        vertical-align: top;\n",
       "    }\n",
       "</style>\n",
       "<table border=\"1\" class=\"dataframe\">\n",
       "  <thead>\n",
       "    <tr style=\"text-align: right;\">\n",
       "      <th></th>\n",
       "      <th>created_at</th>\n",
       "      <th>handle</th>\n",
       "      <th>mined_at</th>\n",
       "      <th>retweet_count</th>\n",
       "      <th>text</th>\n",
       "      <th>tweet_id</th>\n",
       "    </tr>\n",
       "  </thead>\n",
       "  <tbody>\n",
       "    <tr>\n",
       "      <th>0</th>\n",
       "      <td>Tue Dec 19 15:54:31 +0000 2017</td>\n",
       "      <td>CNN</td>\n",
       "      <td>2017-12-19 10:55:00.628118</td>\n",
       "      <td>4</td>\n",
       "      <td>McDonald's plans to start selling a McVegan bu...</td>\n",
       "      <td>943147542019264513</td>\n",
       "    </tr>\n",
       "    <tr>\n",
       "      <th>1</th>\n",
       "      <td>Tue Dec 19 15:49:11 +0000 2017</td>\n",
       "      <td>CNN</td>\n",
       "      <td>2017-12-19 10:55:00.628128</td>\n",
       "      <td>50</td>\n",
       "      <td>K-pop fans are mourning the death of SHINee si...</td>\n",
       "      <td>943146199296724993</td>\n",
       "    </tr>\n",
       "    <tr>\n",
       "      <th>2</th>\n",
       "      <td>Tue Dec 19 15:35:08 +0000 2017</td>\n",
       "      <td>CNN</td>\n",
       "      <td>2017-12-19 10:55:00.628130</td>\n",
       "      <td>97</td>\n",
       "      <td>The Amtrak train that derailed Monday in Washi...</td>\n",
       "      <td>943142664379293696</td>\n",
       "    </tr>\n",
       "    <tr>\n",
       "      <th>3</th>\n",
       "      <td>Tue Dec 19 15:26:26 +0000 2017</td>\n",
       "      <td>CNN</td>\n",
       "      <td>2017-12-19 10:55:00.628132</td>\n",
       "      <td>45</td>\n",
       "      <td>House GOP leadership speaks ahead of today’s e...</td>\n",
       "      <td>943140475355193345</td>\n",
       "    </tr>\n",
       "    <tr>\n",
       "      <th>4</th>\n",
       "      <td>Tue Dec 19 15:20:16 +0000 2017</td>\n",
       "      <td>CNN</td>\n",
       "      <td>2017-12-19 10:55:00.628133</td>\n",
       "      <td>104</td>\n",
       "      <td>7 reasons why Republicans may have made a bad ...</td>\n",
       "      <td>943138921264926720</td>\n",
       "    </tr>\n",
       "  </tbody>\n",
       "</table>\n",
       "</div>"
      ],
      "text/plain": [
       "                       created_at handle                    mined_at  \\\n",
       "0  Tue Dec 19 15:54:31 +0000 2017    CNN  2017-12-19 10:55:00.628118   \n",
       "1  Tue Dec 19 15:49:11 +0000 2017    CNN  2017-12-19 10:55:00.628128   \n",
       "2  Tue Dec 19 15:35:08 +0000 2017    CNN  2017-12-19 10:55:00.628130   \n",
       "3  Tue Dec 19 15:26:26 +0000 2017    CNN  2017-12-19 10:55:00.628132   \n",
       "4  Tue Dec 19 15:20:16 +0000 2017    CNN  2017-12-19 10:55:00.628133   \n",
       "\n",
       "   retweet_count                                               text  \\\n",
       "0              4  McDonald's plans to start selling a McVegan bu...   \n",
       "1             50  K-pop fans are mourning the death of SHINee si...   \n",
       "2             97  The Amtrak train that derailed Monday in Washi...   \n",
       "3             45  House GOP leadership speaks ahead of today’s e...   \n",
       "4            104  7 reasons why Republicans may have made a bad ...   \n",
       "\n",
       "             tweet_id  \n",
       "0  943147542019264513  \n",
       "1  943146199296724993  \n",
       "2  943142664379293696  \n",
       "3  943140475355193345  \n",
       "4  943138921264926720  "
      ]
     },
     "execution_count": 18,
     "metadata": {},
     "output_type": "execute_result"
    }
   ],
   "source": [
    "twitter_final2.head()"
   ]
  },
  {
   "cell_type": "code",
   "execution_count": 20,
   "metadata": {},
   "outputs": [],
   "source": [
    "import os\n",
    "import re\n",
    "import csv\n",
    "import sys\n",
    "# In this next script, we’ll first clean up our dirty data, get rid of emoticons, hashtags, RT’s, ?, http, etc.\n",
    "def process_text2(tweets):\n",
    "        \"\"\"Remove emoticons, numbers etc. and returns list of cleaned tweets.\"\"\"\n",
    "        stripped_text = [\n",
    "        re.sub(\"(@[A-Za-z0-9]+)|([^0-9A-Za-z \\t])|(\\w+:\\/\\/\\S+)|^rt|http.+?\" +\n",
    "               sys.argv[1].lower(), '',\n",
    "               tweets.lower()).strip()\n",
    "    ]\n",
    "        return stripped_text[0]\n",
    "\n",
    "\n",
    "twitter_final2['Text'] =twitter_final2['text'].apply(process_text2) "
   ]
  },
  {
   "cell_type": "code",
   "execution_count": 21,
   "metadata": {
    "collapsed": true
   },
   "outputs": [],
   "source": [
    "def remove_stop_words(tweets):\n",
    "    \"\"\"Remove stop words in tweets.\"\"\"\n",
    "    from nltk.corpus import stopwords\n",
    "    stop = stopwords.words('english') \n",
    "    # If our word is not in the stop list then we add it to our word list\n",
    "    clean_text = ' '.join([word for word in tweets.split(' ')\n",
    "                           if word not in stop])\n",
    "    return clean_text\n",
    "\n",
    "twitter_final2['Text'] =twitter_final2['Text'].apply(remove_stop_words) "
   ]
  },
  {
   "cell_type": "code",
   "execution_count": 22,
   "metadata": {
    "collapsed": true
   },
   "outputs": [],
   "source": [
    "def time(cell):\n",
    "    if 6 <=int(cell[11:13]) < 9:\n",
    "        return 'breakfast'\n",
    "    elif 12 <=int(cell[11:13])< 14:\n",
    "        return 'lunchtime'\n",
    "    elif 18 <=int(cell[11:13])< 20:\n",
    "        return 'dinnertime'\n",
    "    else:\n",
    "        return 'N/A'\n",
    "    \n",
    "twitter_final2['Time'] =twitter_final2['created_at'].apply(time)"
   ]
  },
  {
   "cell_type": "code",
   "execution_count": 23,
   "metadata": {
    "collapsed": true
   },
   "outputs": [],
   "source": [
    "def time2(cell):\n",
    "    if cell =='breakfast':\n",
    "        return 1\n",
    "    elif cell =='lunchtime':\n",
    "        return 2\n",
    "    elif cell =='dinnertime':\n",
    "        return 3\n",
    "    else:\n",
    "        return 4\n",
    "    "
   ]
  },
  {
   "cell_type": "code",
   "execution_count": 24,
   "metadata": {
    "collapsed": true
   },
   "outputs": [],
   "source": [
    "twitter_final2['numeric_time']=twitter_final2['Time'].apply(time2)"
   ]
  },
  {
   "cell_type": "code",
   "execution_count": 25,
   "metadata": {},
   "outputs": [
    {
     "data": {
      "text/html": [
       "<div>\n",
       "<style>\n",
       "    .dataframe thead tr:only-child th {\n",
       "        text-align: right;\n",
       "    }\n",
       "\n",
       "    .dataframe thead th {\n",
       "        text-align: left;\n",
       "    }\n",
       "\n",
       "    .dataframe tbody tr th {\n",
       "        vertical-align: top;\n",
       "    }\n",
       "</style>\n",
       "<table border=\"1\" class=\"dataframe\">\n",
       "  <thead>\n",
       "    <tr style=\"text-align: right;\">\n",
       "      <th></th>\n",
       "      <th>created_at</th>\n",
       "      <th>handle</th>\n",
       "      <th>mined_at</th>\n",
       "      <th>retweet_count</th>\n",
       "      <th>text</th>\n",
       "      <th>tweet_id</th>\n",
       "      <th>Text</th>\n",
       "      <th>Time</th>\n",
       "      <th>numeric_time</th>\n",
       "    </tr>\n",
       "  </thead>\n",
       "  <tbody>\n",
       "    <tr>\n",
       "      <th>0</th>\n",
       "      <td>Tue Dec 19 15:54:31 +0000 2017</td>\n",
       "      <td>CNN</td>\n",
       "      <td>2017-12-19 10:55:00.628118</td>\n",
       "      <td>4</td>\n",
       "      <td>McDonald's plans to start selling a McVegan bu...</td>\n",
       "      <td>943147542019264513</td>\n",
       "      <td>mcdonalds plans start selling mcvegan burger h...</td>\n",
       "      <td>N/A</td>\n",
       "      <td>4</td>\n",
       "    </tr>\n",
       "    <tr>\n",
       "      <th>1</th>\n",
       "      <td>Tue Dec 19 15:49:11 +0000 2017</td>\n",
       "      <td>CNN</td>\n",
       "      <td>2017-12-19 10:55:00.628128</td>\n",
       "      <td>50</td>\n",
       "      <td>K-pop fans are mourning the death of SHINee si...</td>\n",
       "      <td>943146199296724993</td>\n",
       "      <td>kpop fans mourning death shinee singer kim jon...</td>\n",
       "      <td>N/A</td>\n",
       "      <td>4</td>\n",
       "    </tr>\n",
       "  </tbody>\n",
       "</table>\n",
       "</div>"
      ],
      "text/plain": [
       "                       created_at handle                    mined_at  \\\n",
       "0  Tue Dec 19 15:54:31 +0000 2017    CNN  2017-12-19 10:55:00.628118   \n",
       "1  Tue Dec 19 15:49:11 +0000 2017    CNN  2017-12-19 10:55:00.628128   \n",
       "\n",
       "   retweet_count                                               text  \\\n",
       "0              4  McDonald's plans to start selling a McVegan bu...   \n",
       "1             50  K-pop fans are mourning the death of SHINee si...   \n",
       "\n",
       "             tweet_id                                               Text Time  \\\n",
       "0  943147542019264513  mcdonalds plans start selling mcvegan burger h...  N/A   \n",
       "1  943146199296724993  kpop fans mourning death shinee singer kim jon...  N/A   \n",
       "\n",
       "   numeric_time  \n",
       "0             4  \n",
       "1             4  "
      ]
     },
     "execution_count": 25,
     "metadata": {},
     "output_type": "execute_result"
    }
   ],
   "source": [
    "twitter_final2.head(2)"
   ]
  },
  {
   "cell_type": "code",
   "execution_count": 26,
   "metadata": {},
   "outputs": [
    {
     "data": {
      "text/plain": [
       "4    23794\n",
       "3     3748\n",
       "2     2443\n",
       "1     2015\n",
       "Name: numeric_time, dtype: int64"
      ]
     },
     "execution_count": 26,
     "metadata": {},
     "output_type": "execute_result"
    }
   ],
   "source": [
    "twitter_final2.numeric_time.value_counts()"
   ]
  },
  {
   "cell_type": "code",
   "execution_count": 27,
   "metadata": {},
   "outputs": [
    {
     "data": {
      "text/plain": [
       "CNN                   3242\n",
       "ABC News              3199\n",
       "CBS Tweet             3199\n",
       "Washington Post       3199\n",
       "The New York Times    3198\n",
       "MSNBC                 3198\n",
       "WSB-TV                3196\n",
       "Fox News              3193\n",
       "BuzzFeed News         3189\n",
       "MNPR | Ryan May       3187\n",
       "Name: handle, dtype: int64"
      ]
     },
     "execution_count": 27,
     "metadata": {},
     "output_type": "execute_result"
    }
   ],
   "source": [
    "twitter_final2.handle.value_counts()"
   ]
  },
  {
   "cell_type": "code",
   "execution_count": 28,
   "metadata": {
    "collapsed": true
   },
   "outputs": [],
   "source": [
    "# engineering sentiment features for analysis\n",
    "from textblob import TextBlob\n",
    "def add_sub_and_pol(df):\n",
    "    df=df.copy()\n",
    "    def polarity(text):\n",
    "        text = TextBlob(text)\n",
    "        return text.sentiment.polarity\n",
    "    \n",
    "    def subjectivity(text):\n",
    "        text = TextBlob(text)\n",
    "        return text.sentiment.subjectivity\n",
    "    \n",
    "    def get_tweet_sentiment(text):\n",
    "        text = TextBlob(text)\n",
    "        if text.sentiment.polarity > 0:\n",
    "            return 'positive'\n",
    "        elif text.sentiment.polarity == 0:\n",
    "            return 'neutral'\n",
    "        else:\n",
    "            return 'negative'\n",
    "    twitter_final2['subjectivity'] =twitter_final2['Text'].apply(subjectivity)\n",
    "    twitter_final2['polarity'] =twitter_final2['Text'].apply(polarity)\n",
    "    twitter_final2['sentiment'] =twitter_final2['Text'].apply(get_tweet_sentiment)\n",
    "    return twitter_final2.copy()"
   ]
  },
  {
   "cell_type": "code",
   "execution_count": 29,
   "metadata": {
    "collapsed": true
   },
   "outputs": [],
   "source": [
    "twitter_final2=add_sub_and_pol(twitter_final2)"
   ]
  },
  {
   "cell_type": "code",
   "execution_count": 30,
   "metadata": {},
   "outputs": [
    {
     "data": {
      "text/html": [
       "<div>\n",
       "<style>\n",
       "    .dataframe thead tr:only-child th {\n",
       "        text-align: right;\n",
       "    }\n",
       "\n",
       "    .dataframe thead th {\n",
       "        text-align: left;\n",
       "    }\n",
       "\n",
       "    .dataframe tbody tr th {\n",
       "        vertical-align: top;\n",
       "    }\n",
       "</style>\n",
       "<table border=\"1\" class=\"dataframe\">\n",
       "  <thead>\n",
       "    <tr style=\"text-align: right;\">\n",
       "      <th></th>\n",
       "      <th>created_at</th>\n",
       "      <th>handle</th>\n",
       "      <th>mined_at</th>\n",
       "      <th>retweet_count</th>\n",
       "      <th>text</th>\n",
       "      <th>tweet_id</th>\n",
       "      <th>Text</th>\n",
       "      <th>Time</th>\n",
       "      <th>numeric_time</th>\n",
       "      <th>subjectivity</th>\n",
       "      <th>polarity</th>\n",
       "      <th>sentiment</th>\n",
       "    </tr>\n",
       "  </thead>\n",
       "  <tbody>\n",
       "    <tr>\n",
       "      <th>0</th>\n",
       "      <td>Tue Dec 19 15:54:31 +0000 2017</td>\n",
       "      <td>CNN</td>\n",
       "      <td>2017-12-19 10:55:00.628118</td>\n",
       "      <td>4</td>\n",
       "      <td>McDonald's plans to start selling a McVegan bu...</td>\n",
       "      <td>943147542019264513</td>\n",
       "      <td>mcdonalds plans start selling mcvegan burger h...</td>\n",
       "      <td>N/A</td>\n",
       "      <td>4</td>\n",
       "      <td>0.000000</td>\n",
       "      <td>0.000000</td>\n",
       "      <td>neutral</td>\n",
       "    </tr>\n",
       "    <tr>\n",
       "      <th>1</th>\n",
       "      <td>Tue Dec 19 15:49:11 +0000 2017</td>\n",
       "      <td>CNN</td>\n",
       "      <td>2017-12-19 10:55:00.628128</td>\n",
       "      <td>50</td>\n",
       "      <td>K-pop fans are mourning the death of SHINee si...</td>\n",
       "      <td>943146199296724993</td>\n",
       "      <td>kpop fans mourning death shinee singer kim jon...</td>\n",
       "      <td>N/A</td>\n",
       "      <td>4</td>\n",
       "      <td>0.350000</td>\n",
       "      <td>0.050000</td>\n",
       "      <td>positive</td>\n",
       "    </tr>\n",
       "    <tr>\n",
       "      <th>2</th>\n",
       "      <td>Tue Dec 19 15:35:08 +0000 2017</td>\n",
       "      <td>CNN</td>\n",
       "      <td>2017-12-19 10:55:00.628130</td>\n",
       "      <td>97</td>\n",
       "      <td>The Amtrak train that derailed Monday in Washi...</td>\n",
       "      <td>943142664379293696</td>\n",
       "      <td>amtrak train derailed monday washington state ...</td>\n",
       "      <td>N/A</td>\n",
       "      <td>4</td>\n",
       "      <td>0.000000</td>\n",
       "      <td>0.000000</td>\n",
       "      <td>neutral</td>\n",
       "    </tr>\n",
       "    <tr>\n",
       "      <th>3</th>\n",
       "      <td>Tue Dec 19 15:26:26 +0000 2017</td>\n",
       "      <td>CNN</td>\n",
       "      <td>2017-12-19 10:55:00.628132</td>\n",
       "      <td>45</td>\n",
       "      <td>House GOP leadership speaks ahead of today’s e...</td>\n",
       "      <td>943140475355193345</td>\n",
       "      <td>house gop leadership speaks ahead todays expec...</td>\n",
       "      <td>N/A</td>\n",
       "      <td>4</td>\n",
       "      <td>0.450000</td>\n",
       "      <td>0.018182</td>\n",
       "      <td>positive</td>\n",
       "    </tr>\n",
       "    <tr>\n",
       "      <th>4</th>\n",
       "      <td>Tue Dec 19 15:20:16 +0000 2017</td>\n",
       "      <td>CNN</td>\n",
       "      <td>2017-12-19 10:55:00.628133</td>\n",
       "      <td>104</td>\n",
       "      <td>7 reasons why Republicans may have made a bad ...</td>\n",
       "      <td>943138921264926720</td>\n",
       "      <td>7 reasons republicans may made bad bet tax bil...</td>\n",
       "      <td>N/A</td>\n",
       "      <td>4</td>\n",
       "      <td>0.666667</td>\n",
       "      <td>-0.700000</td>\n",
       "      <td>negative</td>\n",
       "    </tr>\n",
       "  </tbody>\n",
       "</table>\n",
       "</div>"
      ],
      "text/plain": [
       "                       created_at handle                    mined_at  \\\n",
       "0  Tue Dec 19 15:54:31 +0000 2017    CNN  2017-12-19 10:55:00.628118   \n",
       "1  Tue Dec 19 15:49:11 +0000 2017    CNN  2017-12-19 10:55:00.628128   \n",
       "2  Tue Dec 19 15:35:08 +0000 2017    CNN  2017-12-19 10:55:00.628130   \n",
       "3  Tue Dec 19 15:26:26 +0000 2017    CNN  2017-12-19 10:55:00.628132   \n",
       "4  Tue Dec 19 15:20:16 +0000 2017    CNN  2017-12-19 10:55:00.628133   \n",
       "\n",
       "   retweet_count                                               text  \\\n",
       "0              4  McDonald's plans to start selling a McVegan bu...   \n",
       "1             50  K-pop fans are mourning the death of SHINee si...   \n",
       "2             97  The Amtrak train that derailed Monday in Washi...   \n",
       "3             45  House GOP leadership speaks ahead of today’s e...   \n",
       "4            104  7 reasons why Republicans may have made a bad ...   \n",
       "\n",
       "             tweet_id                                               Text Time  \\\n",
       "0  943147542019264513  mcdonalds plans start selling mcvegan burger h...  N/A   \n",
       "1  943146199296724993  kpop fans mourning death shinee singer kim jon...  N/A   \n",
       "2  943142664379293696  amtrak train derailed monday washington state ...  N/A   \n",
       "3  943140475355193345  house gop leadership speaks ahead todays expec...  N/A   \n",
       "4  943138921264926720  7 reasons republicans may made bad bet tax bil...  N/A   \n",
       "\n",
       "   numeric_time  subjectivity  polarity sentiment  \n",
       "0             4      0.000000  0.000000   neutral  \n",
       "1             4      0.350000  0.050000  positive  \n",
       "2             4      0.000000  0.000000   neutral  \n",
       "3             4      0.450000  0.018182  positive  \n",
       "4             4      0.666667 -0.700000  negative  "
      ]
     },
     "execution_count": 30,
     "metadata": {},
     "output_type": "execute_result"
    }
   ],
   "source": [
    "twitter_final2.head()"
   ]
  },
  {
   "cell_type": "code",
   "execution_count": 31,
   "metadata": {
    "collapsed": true
   },
   "outputs": [],
   "source": [
    "twitter_final2.to_csv('twitter_final2.csv', index=False)"
   ]
  },
  {
   "cell_type": "code",
   "execution_count": 32,
   "metadata": {
    "collapsed": true
   },
   "outputs": [],
   "source": [
    "twitter_final2 = pd.read_csv('twitter_final2.csv')"
   ]
  },
  {
   "cell_type": "code",
   "execution_count": 33,
   "metadata": {},
   "outputs": [
    {
     "data": {
      "text/plain": [
       "40"
      ]
     },
     "execution_count": 33,
     "metadata": {},
     "output_type": "execute_result"
    }
   ],
   "source": [
    "twitter_final2.Text.isnull().sum()"
   ]
  },
  {
   "cell_type": "code",
   "execution_count": 34,
   "metadata": {},
   "outputs": [
    {
     "data": {
      "text/plain": [
       "(32000, 12)"
      ]
     },
     "execution_count": 34,
     "metadata": {},
     "output_type": "execute_result"
    }
   ],
   "source": [
    "twitter_final2.shape"
   ]
  },
  {
   "cell_type": "markdown",
   "metadata": {},
   "source": [
    "### Sentiment analysis"
   ]
  },
  {
   "cell_type": "code",
   "execution_count": 35,
   "metadata": {},
   "outputs": [
    {
     "name": "stdout",
     "output_type": "stream",
     "text": [
      "CBS happiness: 0.13449295773576783\n",
      "WAPO happiness: 0.03825815879875743\n",
      "MSNBC happiness: 0.03547035789413839\n",
      "BuzzFeed happiness: 0.058802152557208796\n",
      "ABC happiness: 0.07244842193396407\n",
      "Fox News happiness: 0.04745027704313646\n",
      "CNN happiness: 0.03468648575874054\n",
      "WSB-TV happiness: 0.07715688041012624\n",
      "NPR happiness: 0.12366669934209873\n",
      "NyTimes happiness: 0.08152966293718297\n"
     ]
    }
   ],
   "source": [
    "print('CBS happiness:',twitter_final2.loc[twitter_final2['handle'].str.contains('CBS Tweet'),'polarity'].mean())\n",
    "\n",
    "print('WAPO happiness:', twitter_final2.loc[twitter_final2['handle'].str.contains('Washington Post'),'polarity'].mean())\n",
    "\n",
    "print('MSNBC happiness:', twitter_final2.loc[twitter_final2['handle'].str.contains('MSNBC'),'polarity'].mean())\n",
    "\n",
    "print('BuzzFeed happiness:', twitter_final2.loc[twitter_final2['handle'].str.contains('BuzzFeed News'),'polarity'].mean())\n",
    "\n",
    "print('ABC happiness:',twitter_final2.loc[twitter_final2['handle'].str.contains('ABC News'),'polarity'].mean())\n",
    "\n",
    "print('Fox News happiness:', twitter_final2.loc[twitter_final2['handle'].str.contains('Fox News'),'polarity'].mean())\n",
    "\n",
    "print('CNN happiness:', twitter_final2.loc[twitter_final2['handle'].str.contains('CNN'),'polarity'].mean())\n",
    "\n",
    "print('WSB-TV happiness:',twitter_final2.loc[twitter_final2['handle'].str.contains('WSB-TV'),'polarity'].mean())\n",
    "\n",
    "print('NPR happiness:', twitter_final2.loc[twitter_final2['handle'].str.contains('MNPR'),'polarity'].mean())\n",
    "\n",
    "print('NyTimes happiness:', twitter_final2.loc[twitter_final2['handle'].str.contains('New York Times'),'polarity'].mean())"
   ]
  },
  {
   "cell_type": "code",
   "execution_count": 36,
   "metadata": {},
   "outputs": [
    {
     "data": {
      "image/png": "[encoded data removed]",
      "text/plain": [
       "<matplotlib.figure.Figure at 0x1a0f16c2e8>"
      ]
     },
     "metadata": {},
     "output_type": "display_data"
    }
   ],
   "source": [
    "twitter_final2.groupby('handle')['polarity'].mean().sort_values(ascending=False).plot(kind='bar',title='Handle per Polarity')\n",
    "plt.xlabel('Handle')\n",
    "plt.ylabel('Polarity');"
   ]
  },
  {
   "cell_type": "code",
   "execution_count": 38,
   "metadata": {},
   "outputs": [
    {
     "data": {
      "image/png": "[encoded data removed]",
      "text/plain": [
       "<matplotlib.figure.Figure at 0x1a0f7e33c8>"
      ]
     },
     "metadata": {},
     "output_type": "display_data"
    }
   ],
   "source": [
    "order_of_polarity = list(twitter_final2.groupby('handle')['polarity'].mean().sort_values(ascending=False).index)\n",
    "fig, ax = plt.subplots(figsize = (16, 5))\n",
    "sns.barplot(x = 'handle', y = 'polarity',order=order_of_polarity, data = twitter_final2, ax = ax)\n",
    "plt.show()"
   ]
  },
  {
   "cell_type": "code",
   "execution_count": 37,
   "metadata": {},
   "outputs": [
    {
     "data": {
      "image/png": "[encoded data removed]",
      "text/plain": [
       "<matplotlib.figure.Figure at 0x1a0f0bad30>"
      ]
     },
     "metadata": {},
     "output_type": "display_data"
    }
   ],
   "source": [
    "twitter_final2.groupby('handle')['subjectivity'].mean().sort_values(ascending=False).plot(kind='bar',title='Handle per Polarity')\n",
    "plt.xlabel('Handle')\n",
    "plt.ylabel('subjectivity');"
   ]
  },
  {
   "cell_type": "code",
   "execution_count": 39,
   "metadata": {},
   "outputs": [
    {
     "data": {
      "image/png": "[encoded data removed]",
      "text/plain": [
       "<matplotlib.figure.Figure at 0x1a0f7db2e8>"
      ]
     },
     "metadata": {},
     "output_type": "display_data"
    }
   ],
   "source": [
    "order_of_subjectivity = list(twitter_final2.groupby('handle')['subjectivity'].mean().sort_values(ascending=False).index)\n",
    "ig, ax = plt.subplots(figsize = (18, 5))\n",
    "sns.barplot(x = 'handle', y = 'subjectivity',order=order_of_subjectivity, data = twitter_final2, ax = ax)\n",
    "plt.show()"
   ]
  },
  {
   "cell_type": "code",
   "execution_count": null,
   "metadata": {
    "collapsed": true
   },
   "outputs": [],
   "source": [
    "# Let check how my defined classes fare in terms of polarity"
   ]
  },
  {
   "cell_type": "code",
   "execution_count": 41,
   "metadata": {},
   "outputs": [],
   "source": [
    "df_breakfast = twitter_final2.loc[twitter_final2['numeric_time']==1,:]\n",
    "df_lunch =  twitter_final2.loc[twitter_final2['numeric_time']==2,:]\n",
    "df_dinner =  twitter_final2.loc[twitter_final2['numeric_time']==3,:]"
   ]
  },
  {
   "cell_type": "code",
   "execution_count": 42,
   "metadata": {
    "collapsed": true
   },
   "outputs": [],
   "source": [
    "dic = {\n",
    " 'breakfast': list(df_breakfast.iloc[:2000,:].loc[:,'polarity']),\n",
    " 'lunch' : list(df_lunch.iloc[:2000,:].loc[:,'polarity']),\n",
    " 'dinner': list(df_dinner.iloc[:2000,:].loc[:,'polarity'])\n",
    "}"
   ]
  },
  {
   "cell_type": "code",
   "execution_count": 43,
   "metadata": {
    "collapsed": true
   },
   "outputs": [],
   "source": [
    "classes = pd.DataFrame(dic)"
   ]
  },
  {
   "cell_type": "code",
   "execution_count": 44,
   "metadata": {},
   "outputs": [
    {
     "data": {
      "text/plain": [
       "<matplotlib.text.Text at 0x1089080b8>"
      ]
     },
     "execution_count": 44,
     "metadata": {},
     "output_type": "execute_result"
    },
    {
     "data": {
      "image/png": "[encoded data removed]",
      "text/plain": [
       "<matplotlib.figure.Figure at 0x1a0f2dff60>"
      ]
     },
     "metadata": {},
     "output_type": "display_data"
    }
   ],
   "source": [
    "classes[['breakfast','lunch','dinner']].plot.hist(bins=20,stacked=True)\n",
    "plt.title('Stacked histogram with breakfast, lunch and dinner')\n",
    "plt.xlabel('polarity')\n",
    "plt.ylabel('Frequency')"
   ]
  },
  {
   "cell_type": "code",
   "execution_count": 45,
   "metadata": {},
   "outputs": [
    {
     "data": {
      "text/plain": [
       "<matplotlib.text.Text at 0x1a0f0b6b38>"
      ]
     },
     "execution_count": 45,
     "metadata": {},
     "output_type": "execute_result"
    },
    {
     "data": {
      "image/png": "[encoded data removed]",
      "text/plain": [
       "<matplotlib.figure.Figure at 0x1088fdc18>"
      ]
     },
     "metadata": {},
     "output_type": "display_data"
    }
   ],
   "source": [
    "classes[['breakfast','lunch','dinner']].plot.hist(bins=20,alpha=0.4)\n",
    "plt.title('Stacked histogram with breakfast, lunch and dinner')\n",
    "plt.xlabel('polarity')\n",
    "plt.ylabel('Frequency')"
   ]
  },
  {
   "cell_type": "code",
   "execution_count": 46,
   "metadata": {},
   "outputs": [
    {
     "data": {
      "text/plain": [
       "<matplotlib.text.Text at 0x1a0ed148d0>"
      ]
     },
     "execution_count": 46,
     "metadata": {},
     "output_type": "execute_result"
    },
    {
     "data": {
      "image/png": "[encoded data removed]",
      "text/plain": [
       "<matplotlib.figure.Figure at 0x1a0f0a6ef0>"
      ]
     },
     "metadata": {},
     "output_type": "display_data"
    }
   ],
   "source": [
    "classes[['breakfast','lunch']].plot.hist(bins=20,alpha=0.4)\n",
    "plt.title('Stacked histogram with breakfast, lunch and dinner')\n",
    "plt.xlabel('polarity')\n",
    "plt.ylabel('Frequency')"
   ]
  },
  {
   "cell_type": "markdown",
   "metadata": {},
   "source": [
    "As we can see it looks like there is not separation between twitter feeds for my different classes"
   ]
  },
  {
   "cell_type": "code",
   "execution_count": null,
   "metadata": {
    "collapsed": true
   },
   "outputs": [],
   "source": []
  },
  {
   "cell_type": "markdown",
   "metadata": {},
   "source": [
    "### Build a model with pymc3 to estimate the difference in tone between breakfast and lunchtime tweets"
   ]
  },
  {
   "cell_type": "code",
   "execution_count": null,
   "metadata": {
    "collapsed": true
   },
   "outputs": [],
   "source": [
    "# The null hypothesis is that there is zero difference between the mean of two groups.\n",
    "# The alternative hypothesis is that there IS a difference.\n",
    "\n",
    "# in this MCMC simulation, I will estimate how different  two groups are in terms of polarity"
   ]
  },
  {
   "cell_type": "code",
   "execution_count": 48,
   "metadata": {},
   "outputs": [],
   "source": [
    "import pymc3 as pm"
   ]
  },
  {
   "cell_type": "code",
   "execution_count": null,
   "metadata": {
    "collapsed": true
   },
   "outputs": [],
   "source": [
    "# I will be using Bayesian posterior estimation to look at the difference in breakfast_tweets and lunchtime_tweets in \n",
    "# terms of polarity"
   ]
  },
  {
   "cell_type": "code",
   "execution_count": 50,
   "metadata": {},
   "outputs": [
    {
     "name": "stdout",
     "output_type": "stream",
     "text": [
      "0.0568599118623 0.0509762674637\n"
     ]
    }
   ],
   "source": [
    "breakfast_tweets_tone= twitter_final2.loc[twitter_final2['numeric_time']==1,'polarity'].values\n",
    "lunchtime_tweets_tone = twitter_final2.loc[twitter_final2['numeric_time']==2,'polarity'].values\n",
    "\n",
    "print(breakfast_tweets_tone.mean(),lunchtime_tweets_tone.mean() )"
   ]
  },
  {
   "cell_type": "code",
   "execution_count": 51,
   "metadata": {},
   "outputs": [
    {
     "name": "stdout",
     "output_type": "stream",
     "text": [
      "0.07033627927208666 0.2438994878450581\n"
     ]
    }
   ],
   "source": [
    "prior_mean = twitter_final2.polarity.mean()\n",
    "prior_std = twitter_final2.polarity.std()\n",
    "print(prior_mean, prior_std)"
   ]
  },
  {
   "cell_type": "code",
   "execution_count": 52,
   "metadata": {
    "collapsed": true
   },
   "outputs": [],
   "source": [
    "with pm.Model() as model:\n",
    "    \n",
    "    breakfast_tweets_tone_mean = pm.Normal('breakfast_tweets_tone_mean', prior_mean, sd=prior_std)\n",
    "    lunchtime_tweets_tone_mean = pm.Normal('lunchtime_tweets_tone_mean', prior_mean, sd=prior_std)\n",
    "    \n",
    "    breakfast_tweets_tone_std = pm.Gamma('breakfast_tweets_tone_std', mu=prior_std, sd=prior_std)\n",
    "    lunchtime_tweets_tone_std = pm.Gamma('lunchtime_tweets_tone_std', mu=prior_std, sd=prior_std)\n",
    "    \n",
    "    breakfast_tweets_polarity = pm.Normal('breakfast_tweets_polarity', mu=breakfast_tweets_tone_mean, sd=breakfast_tweets_tone_std, observed=breakfast_tweets_tone)\n",
    "    lunchtime_tweets_polarity = pm.Normal('lunchtime_tweets_polarity', mu=lunchtime_tweets_tone_mean, sd=lunchtime_tweets_tone_std, observed=lunchtime_tweets_tone)\n",
    "    \n",
    "    mean_delta = pm.Deterministic('mean_delta', breakfast_tweets_tone_mean - lunchtime_tweets_tone_mean)\n",
    "    std_delta = pm.Deterministic('std_delta',  breakfast_tweets_tone_std - lunchtime_tweets_tone_std)\n",
    "    effect_size = pm.Deterministic('effect_size', mean_delta / np.sqrt((breakfast_tweets_tone_std**2 + lunchtime_tweets_tone_std**2)/2.))"
   ]
  },
  {
   "cell_type": "code",
   "execution_count": 53,
   "metadata": {},
   "outputs": [
    {
     "name": "stderr",
     "output_type": "stream",
     "text": [
      "logp = -189.36, ||grad|| = 0.040577: 100%|██████████| 13/13 [00:00<00:00, 18.78it/s]  \n",
      "100%|██████████| 50500/50500 [01:07<00:00, 746.06it/s]\n"
     ]
    }
   ],
   "source": [
    "with model:\n",
    "    step = pm.NUTS()\n",
    "    start = pm.find_MAP()\n",
    "    trace = pm.sample(50000, start=start, step=step, njobs=2)"
   ]
  },
  {
   "cell_type": "code",
   "execution_count": 54,
   "metadata": {},
   "outputs": [
    {
     "data": {
      "text/plain": [
       "array([<matplotlib.axes._subplots.AxesSubplot object at 0x1c163c9630>,\n",
       "       <matplotlib.axes._subplots.AxesSubplot object at 0x1c1f4349b0>,\n",
       "       <matplotlib.axes._subplots.AxesSubplot object at 0x1c1f45cef0>,\n",
       "       <matplotlib.axes._subplots.AxesSubplot object at 0x1c1fcbb0b8>], dtype=object)"
      ]
     },
     "execution_count": 54,
     "metadata": {},
     "output_type": "execute_result"
    },
    {
     "data": {
      "image/png": "[encoded data removed]",
      "text/plain": [
       "<matplotlib.figure.Figure at 0x1c160f42e8>"
      ]
     },
     "metadata": {},
     "output_type": "display_data"
    }
   ],
   "source": [
    "pm.plot_posterior(trace[5000::3],\n",
    "                  varnames=['breakfast_tweets_tone_mean', 'lunchtime_tweets_tone_mean',\n",
    "                            'breakfast_tweets_tone_std', 'lunchtime_tweets_tone_std'],\n",
    "                  color='#87ceeb')"
   ]
  },
  {
   "cell_type": "code",
   "execution_count": 55,
   "metadata": {},
   "outputs": [
    {
     "data": {
      "text/plain": [
       "array([<matplotlib.axes._subplots.AxesSubplot object at 0x1a12d32588>,\n",
       "       <matplotlib.axes._subplots.AxesSubplot object at 0x1a1080e710>,\n",
       "       <matplotlib.axes._subplots.AxesSubplot object at 0x1a11b72c88>], dtype=object)"
      ]
     },
     "execution_count": 55,
     "metadata": {},
     "output_type": "execute_result"
    },
    {
     "data": {
      "image/png": "[encoded data removed]",
      "text/plain": [
       "<matplotlib.figure.Figure at 0x1a12d2ed68>"
      ]
     },
     "metadata": {},
     "output_type": "display_data"
    }
   ],
   "source": [
    "pm.plot_posterior(trace[5000::3],\n",
    "                  varnames=['mean_delta','std_delta','effect_size'],\n",
    "                  color='#87ceeb', ref_val=0)"
   ]
  },
  {
   "cell_type": "code",
   "execution_count": null,
   "metadata": {
    "collapsed": true
   },
   "outputs": [],
   "source": [
    "# The Plot of the posteriors of our metric distributions shows that there is NOT A difference in the mean, therefore the\n",
    "# the two groups are the same "
   ]
  },
  {
   "cell_type": "markdown",
   "metadata": {},
   "source": [
    "### Build a model with pymc3 to estimate the difference in tone between breakfast and dinnertime tweets"
   ]
  },
  {
   "cell_type": "code",
   "execution_count": 56,
   "metadata": {},
   "outputs": [
    {
     "name": "stdout",
     "output_type": "stream",
     "text": [
      "0.0568599118623 0.0987745647471\n"
     ]
    }
   ],
   "source": [
    "breakfast_tweets_tone= twitter_final2.loc[twitter_final2['numeric_time']==1,'polarity'].values\n",
    "dinnertime_tweets_tone = twitter_final2.loc[twitter_final2['numeric_time']==3,'polarity'].values\n",
    "\n",
    "print(breakfast_tweets_tone.mean(),dinnertime_tweets_tone.mean() )"
   ]
  },
  {
   "cell_type": "code",
   "execution_count": 57,
   "metadata": {},
   "outputs": [
    {
     "name": "stdout",
     "output_type": "stream",
     "text": [
      "0.07033627927208666 0.2438994878450581\n"
     ]
    }
   ],
   "source": [
    "prior_mean2 = twitter_final2.polarity.mean()\n",
    "prior_std2 = twitter_final2.polarity.std()\n",
    "print(prior_mean2, prior_std2)"
   ]
  },
  {
   "cell_type": "code",
   "execution_count": 58,
   "metadata": {
    "collapsed": true
   },
   "outputs": [],
   "source": [
    "with pm.Model() as model:\n",
    "    \n",
    "    breakfast_tweets_tone_mean = pm.Normal('breakfast_tweets_tone_mean', prior_mean2, sd=prior_std2)\n",
    "    dinnertime_tweets_tone_mean = pm.Normal('dinnertime_tweets_tone_mean', prior_mean2, sd=prior_std2)\n",
    "    \n",
    "    breakfast_tweets_tone_std = pm.Gamma('breakfast_tweets_tone_std', mu=prior_std2, sd=prior_std2)\n",
    "    dinnertime_tweets_tone_std = pm.Gamma('dinnertime_tweets_tone_std', mu=prior_std2, sd=prior_std2)\n",
    "    \n",
    "    breakfast_tweets_polarity = pm.Normal('breakfast_tweets_polarity', mu=breakfast_tweets_tone_mean, sd=breakfast_tweets_tone_std, observed=breakfast_tweets_tone)\n",
    "    dinnertime_tweets_polarity = pm.Normal('dinnertime_tweets_polarity', mu=dinnertime_tweets_tone_mean, sd=dinnertime_tweets_tone_std, observed=dinnertime_tweets_tone)\n",
    "    \n",
    "    mean_delta = pm.Deterministic('mean_delta', breakfast_tweets_tone_mean - dinnertime_tweets_tone_mean)\n",
    "    std_delta = pm.Deterministic('std_delta',  breakfast_tweets_tone_std - dinnertime_tweets_tone_std)\n",
    "    effect_size = pm.Deterministic('effect_size', mean_delta / np.sqrt((breakfast_tweets_tone_std**2 + dinnertime_tweets_tone_std**2)/2.))"
   ]
  },
  {
   "cell_type": "code",
   "execution_count": 59,
   "metadata": {},
   "outputs": [
    {
     "name": "stderr",
     "output_type": "stream",
     "text": [
      "logp = -161.94, ||grad|| = 0.040496: 100%|██████████| 13/13 [00:00<00:00, 670.14it/s]  \n",
      "100%|██████████| 50500/50500 [01:23<00:00, 608.32it/s]\n"
     ]
    }
   ],
   "source": [
    "with model:\n",
    "    step = pm.NUTS()\n",
    "    start = pm.find_MAP()\n",
    "    trace = pm.sample(50000, start=start, step=step, njobs=2)"
   ]
  },
  {
   "cell_type": "code",
   "execution_count": 60,
   "metadata": {},
   "outputs": [
    {
     "data": {
      "text/plain": [
       "array([<matplotlib.axes._subplots.AxesSubplot object at 0x1c2168a2b0>,\n",
       "       <matplotlib.axes._subplots.AxesSubplot object at 0x1c218bc9e8>,\n",
       "       <matplotlib.axes._subplots.AxesSubplot object at 0x1c165a2fd0>,\n",
       "       <matplotlib.axes._subplots.AxesSubplot object at 0x1c1676f9b0>], dtype=object)"
      ]
     },
     "execution_count": 60,
     "metadata": {},
     "output_type": "execute_result"
    },
    {
     "data": {
      "image/png": "[encoded data removed]",
      "text/plain": [
       "<matplotlib.figure.Figure at 0x1c2162d278>"
      ]
     },
     "metadata": {},
     "output_type": "display_data"
    }
   ],
   "source": [
    "pm.plot_posterior(trace[5000::3],\n",
    "                  varnames=['breakfast_tweets_tone_mean', 'dinnertime_tweets_tone_mean',\n",
    "                            'breakfast_tweets_tone_std', 'dinnertime_tweets_tone_std'],\n",
    "                  color='#87ceeb')"
   ]
  },
  {
   "cell_type": "code",
   "execution_count": 61,
   "metadata": {},
   "outputs": [
    {
     "data": {
      "text/plain": [
       "array([<matplotlib.axes._subplots.AxesSubplot object at 0x1c2107df60>,\n",
       "       <matplotlib.axes._subplots.AxesSubplot object at 0x1c1f7720f0>,\n",
       "       <matplotlib.axes._subplots.AxesSubplot object at 0x1c1f6b3668>], dtype=object)"
      ]
     },
     "execution_count": 61,
     "metadata": {},
     "output_type": "execute_result"
    },
    {
     "data": {
      "image/png": "[encoded data removed]",
      "text/plain": [
       "<matplotlib.figure.Figure at 0x1c2107d780>"
      ]
     },
     "metadata": {},
     "output_type": "display_data"
    }
   ],
   "source": [
    "pm.plot_posterior(trace[5000::3],\n",
    "                  varnames=['mean_delta','std_delta','effect_size'],\n",
    "                  color='#87ceeb', ref_val=0)"
   ]
  },
  {
   "cell_type": "code",
   "execution_count": null,
   "metadata": {
    "collapsed": true
   },
   "outputs": [],
   "source": [
    "# The Plot of the posteriors of our metric distributions shows that there is A difference in the mean, therefore the\n",
    "# two groups are different"
   ]
  },
  {
   "cell_type": "markdown",
   "metadata": {},
   "source": [
    "### Build a model with pymc3 to estimate the difference in tone between lunchtime and dinnertime tweets"
   ]
  },
  {
   "cell_type": "code",
   "execution_count": 63,
   "metadata": {},
   "outputs": [
    {
     "name": "stdout",
     "output_type": "stream",
     "text": [
      "0.0509762674637 0.0987745647471\n"
     ]
    }
   ],
   "source": [
    "lunchtime_tweets_tone= twitter_final2.loc[twitter_final2['numeric_time']==2,'polarity'].values\n",
    "dinnertime_tweets_tone = twitter_final2.loc[twitter_final2['numeric_time']==3,'polarity'].values\n",
    "\n",
    "print(lunchtime_tweets_tone.mean(),dinnertime_tweets_tone.mean() )"
   ]
  },
  {
   "cell_type": "code",
   "execution_count": 64,
   "metadata": {},
   "outputs": [
    {
     "name": "stdout",
     "output_type": "stream",
     "text": [
      "0.07033627927208666 0.2438994878450581\n"
     ]
    }
   ],
   "source": [
    "prior_mean3 = twitter_final2.polarity.mean()\n",
    "prior_std3 = twitter_final2.polarity.std()\n",
    "print(prior_mean3, prior_std3)"
   ]
  },
  {
   "cell_type": "code",
   "execution_count": 65,
   "metadata": {
    "collapsed": true
   },
   "outputs": [],
   "source": [
    "with pm.Model() as model:\n",
    "    \n",
    "    lunchtime_tweets_tone_mean = pm.Normal('lunchtime_tweets_tone_mean', prior_mean3, sd=prior_std3)\n",
    "    dinnertime_tweets_tone_mean = pm.Normal('dinnertime_tweets_tone_mean', prior_mean3, sd=prior_std3)\n",
    "    \n",
    "    lunchtime_tweets_tone_std = pm.Gamma('lunchtime_tweets_tone_std', mu=prior_std3, sd=prior_std3)\n",
    "    dinnertime_tweets_tone_std = pm.Gamma('dinnertime_tweets_tone_std', mu=prior_std3, sd=prior_std3)\n",
    "    \n",
    "    lunchtime_tweets_polarity = pm.Normal('lunchtime_tweets_polarity', mu=lunchtime_tweets_tone_mean, sd=lunchtime_tweets_tone_std, observed=lunchtime_tweets_tone)\n",
    "    dinnertime_tweets_polarity = pm.Normal('dinnertime_tweets_polarity', mu=dinnertime_tweets_tone_mean, sd=dinnertime_tweets_tone_std, observed=dinnertime_tweets_tone)\n",
    "    \n",
    "    mean_delta = pm.Deterministic('mean_delta', lunchtime_tweets_tone_mean - dinnertime_tweets_tone_mean)\n",
    "    std_delta = pm.Deterministic('std_delta',  lunchtime_tweets_tone_std - dinnertime_tweets_tone_std)\n",
    "    effect_size = pm.Deterministic('effect_size', mean_delta / np.sqrt((lunchtime_tweets_tone_std**2 + dinnertime_tweets_tone_std**2)/2.))"
   ]
  },
  {
   "cell_type": "code",
   "execution_count": 66,
   "metadata": {},
   "outputs": [
    {
     "name": "stderr",
     "output_type": "stream",
     "text": [
      "logp = 71.707, ||grad|| = 0.15606: 100%|██████████| 14/14 [00:00<00:00, 870.38it/s]  \n",
      "100%|██████████| 50500/50500 [01:18<00:00, 642.18it/s]\n"
     ]
    }
   ],
   "source": [
    "with model:\n",
    "    step = pm.NUTS()\n",
    "    start = pm.find_MAP()\n",
    "    trace = pm.sample(50000, start=start, step=step, njobs=2)"
   ]
  },
  {
   "cell_type": "code",
   "execution_count": 67,
   "metadata": {},
   "outputs": [
    {
     "data": {
      "text/plain": [
       "array([<matplotlib.axes._subplots.AxesSubplot object at 0x1c217175c0>,\n",
       "       <matplotlib.axes._subplots.AxesSubplot object at 0x1c20a56518>,\n",
       "       <matplotlib.axes._subplots.AxesSubplot object at 0x1c21616f98>,\n",
       "       <matplotlib.axes._subplots.AxesSubplot object at 0x1c21b81d30>], dtype=object)"
      ]
     },
     "execution_count": 67,
     "metadata": {},
     "output_type": "execute_result"
    },
    {
     "data": {
      "image/png": "[encoded data removed]",
      "text/plain": [
       "<matplotlib.figure.Figure at 0x1c21717a58>"
      ]
     },
     "metadata": {},
     "output_type": "display_data"
    }
   ],
   "source": [
    "pm.plot_posterior(trace[5000::3],\n",
    "                  varnames=['lunchtime_tweets_tone_mean', 'dinnertime_tweets_tone_mean',\n",
    "                            'lunchtime_tweets_tone_std', 'dinnertime_tweets_tone_std'],\n",
    "                  color='#87ceeb')"
   ]
  },
  {
   "cell_type": "code",
   "execution_count": 68,
   "metadata": {},
   "outputs": [
    {
     "data": {
      "text/plain": [
       "array([<matplotlib.axes._subplots.AxesSubplot object at 0x1c21b3e6a0>,\n",
       "       <matplotlib.axes._subplots.AxesSubplot object at 0x1c21311828>,\n",
       "       <matplotlib.axes._subplots.AxesSubplot object at 0x1c21af9da0>], dtype=object)"
      ]
     },
     "execution_count": 68,
     "metadata": {},
     "output_type": "execute_result"
    },
    {
     "data": {
      "image/png": "[encoded data removed]",
      "text/plain": [
       "<matplotlib.figure.Figure at 0x1c21b3ce80>"
      ]
     },
     "metadata": {},
     "output_type": "display_data"
    }
   ],
   "source": [
    "pm.plot_posterior(trace[5000::3],\n",
    "                  varnames=['mean_delta','std_delta','effect_size'],\n",
    "                  color='#87ceeb', ref_val=0)"
   ]
  },
  {
   "cell_type": "code",
   "execution_count": null,
   "metadata": {
    "collapsed": true
   },
   "outputs": [],
   "source": [
    "# The Plot of the posteriors of our metric distributions shows that there is A difference in the mean, therefore the\n",
    "# two groups are different"
   ]
  },
  {
   "cell_type": "code",
   "execution_count": 69,
   "metadata": {},
   "outputs": [
    {
     "name": "stdout",
     "output_type": "stream",
     "text": [
      "\n",
      "mean_delta:\n",
      "\n",
      "  Mean             SD               MC Error         95% HPD interval\n",
      "  -------------------------------------------------------------------\n",
      "  \n",
      "  -0.048           0.006            0.000            [-0.060, -0.035]\n",
      "\n",
      "  Posterior quantiles:\n",
      "  2.5            25             50             75             97.5\n",
      "  |--------------|==============|==============|--------------|\n",
      "  \n",
      "  -0.060         -0.052         -0.048         -0.044         -0.036\n",
      "\n",
      "\n",
      "std_delta:\n",
      "\n",
      "  Mean             SD               MC Error         95% HPD interval\n",
      "  -------------------------------------------------------------------\n",
      "  \n",
      "  0.001            0.004            0.000            [-0.007, 0.010]\n",
      "\n",
      "  Posterior quantiles:\n",
      "  2.5            25             50             75             97.5\n",
      "  |--------------|==============|==============|--------------|\n",
      "  \n",
      "  -0.008         -0.002         0.001          0.004          0.010\n",
      "\n",
      "\n",
      "effect_size:\n",
      "\n",
      "  Mean             SD               MC Error         95% HPD interval\n",
      "  -------------------------------------------------------------------\n",
      "  \n",
      "  -0.200           0.026            0.000            [-0.252, -0.149]\n",
      "\n",
      "  Posterior quantiles:\n",
      "  2.5            25             50             75             97.5\n",
      "  |--------------|==============|==============|--------------|\n",
      "  \n",
      "  -0.251         -0.217         -0.200         -0.182         -0.148\n",
      "\n"
     ]
    }
   ],
   "source": [
    "pm.summary(trace[5000:],varnames=['mean_delta','std_delta','effect_size'])"
   ]
  },
  {
   "cell_type": "code",
   "execution_count": 74,
   "metadata": {
    "collapsed": true
   },
   "outputs": [],
   "source": [
    "twitter_final3 = twitter_final2.copy()"
   ]
  },
  {
   "cell_type": "code",
   "execution_count": 75,
   "metadata": {},
   "outputs": [
    {
     "data": {
      "text/plain": [
       "(26930, 12)"
      ]
     },
     "execution_count": 75,
     "metadata": {},
     "output_type": "execute_result"
    }
   ],
   "source": [
    "twitter_final3.drop_duplicates('Text').shape"
   ]
  },
  {
   "cell_type": "code",
   "execution_count": 76,
   "metadata": {
    "collapsed": true
   },
   "outputs": [],
   "source": [
    "twitter_final3=twitter_final3.drop_duplicates('Text')"
   ]
  },
  {
   "cell_type": "code",
   "execution_count": 78,
   "metadata": {
    "collapsed": true
   },
   "outputs": [],
   "source": [
    "twitter_final3 = twitter_final3.dropna()"
   ]
  },
  {
   "cell_type": "code",
   "execution_count": 80,
   "metadata": {},
   "outputs": [
    {
     "data": {
      "text/plain": [
       "(6740, 12)"
      ]
     },
     "execution_count": 80,
     "metadata": {},
     "output_type": "execute_result"
    }
   ],
   "source": [
    "twitter_final3.shape"
   ]
  },
  {
   "cell_type": "markdown",
   "metadata": {},
   "source": [
    "### Use LDA to identify topics in the tweets"
   ]
  },
  {
   "cell_type": "code",
   "execution_count": 70,
   "metadata": {
    "collapsed": true
   },
   "outputs": [],
   "source": [
    "from sklearn.decomposition import LatentDirichletAllocation"
   ]
  },
  {
   "cell_type": "code",
   "execution_count": 79,
   "metadata": {},
   "outputs": [
    {
     "data": {
      "text/plain": [
       "<6740x12979 sparse matrix of type '<class 'numpy.int64'>'\n",
       "\twith 59237 stored elements in Compressed Sparse Row format>"
      ]
     },
     "execution_count": 79,
     "metadata": {},
     "output_type": "execute_result"
    }
   ],
   "source": [
    "cv = CountVectorizer(stop_words='english')\n",
    "cv.fit(twitter_final3['Text'].values)\n",
    "X = cv.transform(twitter_final3['Text'].values)\n",
    "X"
   ]
  },
  {
   "cell_type": "code",
   "execution_count": 81,
   "metadata": {},
   "outputs": [
    {
     "name": "stderr",
     "output_type": "stream",
     "text": [
      "//anaconda/envs/py36/lib/python3.6/site-packages/sklearn/decomposition/online_lda.py:532: DeprecationWarning: The default value for 'learning_method' will be changed from 'online' to 'batch' in the release 0.20. This warning was introduced in 0.18.\n",
      "  DeprecationWarning)\n"
     ]
    },
    {
     "data": {
      "text/plain": [
       "LatentDirichletAllocation(batch_size=128, doc_topic_prior=None,\n",
       "             evaluate_every=-1, learning_decay=0.7, learning_method=None,\n",
       "             learning_offset=10.0, max_doc_update_iter=100, max_iter=10,\n",
       "             mean_change_tol=0.001, n_components=10, n_jobs=1,\n",
       "             n_topics=None, perp_tol=0.1, random_state=None,\n",
       "             topic_word_prior=None, total_samples=1000000.0, verbose=0)"
      ]
     },
     "execution_count": 81,
     "metadata": {},
     "output_type": "execute_result"
    }
   ],
   "source": [
    "feature_names = cv.get_feature_names()\n",
    "lda = LatentDirichletAllocation(n_components=10)\n",
    "\n",
    "lda.fit(X)"
   ]
  },
  {
   "cell_type": "code",
   "execution_count": 82,
   "metadata": {},
   "outputs": [
    {
     "name": "stdout",
     "output_type": "stream",
     "text": [
      "(10, 12979)\n"
     ]
    }
   ],
   "source": [
    "print(lda.components_.shape)"
   ]
  },
  {
   "cell_type": "code",
   "execution_count": 83,
   "metadata": {
    "collapsed": true
   },
   "outputs": [],
   "source": [
    "results = pd.DataFrame(lda.components_,\n",
    "                      columns=feature_names)"
   ]
  },
  {
   "cell_type": "code",
   "execution_count": 84,
   "metadata": {},
   "outputs": [
    {
     "name": "stdout",
     "output_type": "stream",
     "text": [
      "Topic 0\n",
      "new heres dont people live york know years christmas black train said washington series im best official amtrak city report killed early tv high miss \n",
      "\n",
      "Topic 1\n",
      "latest marketing mnpr ryan sexual media harassment women social north paul amp manager power think korea misconduct news accused congress friday campaign breaking net neutrality \n",
      "\n",
      "Topic 2\n",
      "thanks daily police hire say man year want digital school people atlanta attack monday open matt dead shooting woman lauer airport stop arrested center shot \n",
      "\n",
      "Topic 3\n",
      "gop happy russia times south new prince say person hiring charged lot missile harry obama technology update meghan according florida men sneak authority expected bus \n",
      "\n",
      "Topic 4\n",
      "trump president tax says house time white analysis trumps watch pres republicans jerusalem pr senate world sen deal got russian vote republican plan news come \n",
      "\n",
      "Topic 5\n",
      "job relations roy moore cbs alabama week trump allegations intern american senate season says president going theres people hes company story change win texas told \n",
      "\n",
      "Topic 6\n",
      "communications blog seeks amp today new opinion specialist national mns coordinator work good trumps mn follow federal security like need death director love flynn fbi \n",
      "\n",
      "Topic 7\n",
      "california look https video shows like way recent community franken race actor family makes nyc southern join county amp al jones wildfires home alabama doug \n",
      "\n",
      "Topic 8\n",
      "public minnesota mnpr special trump specialist mueller john travel investigation calls group called snow press robert democratic meet exclusive rep jones sunday meeting bad kelly \n",
      "\n",
      "Topic 9\n",
      "great star st night million reports connect executive make congratulations outstanding wars premiere host cbsratingnews announces daytimeemmys force nomination wins financial behavior fans america pope \n",
      "\n"
     ]
    }
   ],
   "source": [
    "for topic in range(10):\n",
    "    print('Topic', topic)\n",
    "    word_list = results.T[topic].sort_values(ascending=False).index\n",
    "    print(' '.join(word_list[0:25]), '\\n')"
   ]
  },
  {
   "cell_type": "markdown",
   "metadata": {},
   "source": [
    "The topics talked sexual harassment, russia investigation, and election"
   ]
  },
  {
   "cell_type": "markdown",
   "metadata": {},
   "source": [
    "### Multiclass Classification Model Building"
   ]
  },
  {
   "cell_type": "code",
   "execution_count": 85,
   "metadata": {
    "collapsed": true
   },
   "outputs": [],
   "source": [
    "df_breakfast = twitter_final2.loc[twitter_final2['numeric_time']==1,:]\n",
    "df_lunch = twitter_final2.loc[twitter_final2['numeric_time']==2,:]\n",
    "df_dinner =  twitter_final2.loc[twitter_final2['numeric_time']==3,:]"
   ]
  },
  {
   "cell_type": "code",
   "execution_count": 86,
   "metadata": {},
   "outputs": [
    {
     "data": {
      "text/plain": [
       "40"
      ]
     },
     "execution_count": 86,
     "metadata": {},
     "output_type": "execute_result"
    }
   ],
   "source": [
    "twitter_final2.Text.isnull().sum()"
   ]
  },
  {
   "cell_type": "code",
   "execution_count": 87,
   "metadata": {
    "collapsed": true
   },
   "outputs": [],
   "source": [
    "model_df =twitter_final2.loc[twitter_final2['numeric_time'] !=4,:]"
   ]
  },
  {
   "cell_type": "code",
   "execution_count": 88,
   "metadata": {
    "collapsed": true
   },
   "outputs": [],
   "source": [
    "model_df = model_df.dropna()"
   ]
  },
  {
   "cell_type": "code",
   "execution_count": 89,
   "metadata": {
    "collapsed": true
   },
   "outputs": [],
   "source": [
    "X = model_df['Text']\n",
    "y= model_df['numeric_time']"
   ]
  },
  {
   "cell_type": "code",
   "execution_count": 118,
   "metadata": {},
   "outputs": [
    {
     "data": {
      "text/plain": [
       "3    0.458049\n",
       "2    0.282439\n",
       "1    0.259512\n",
       "Name: numeric_time, dtype: float64"
      ]
     },
     "execution_count": 118,
     "metadata": {},
     "output_type": "execute_result"
    }
   ],
   "source": [
    "# the baseline\n",
    "y_test.value_counts()/len(y_test)"
   ]
  },
  {
   "cell_type": "code",
   "execution_count": 265,
   "metadata": {
    "collapsed": true
   },
   "outputs": [],
   "source": [
    "scoring_dict = {}"
   ]
  },
  {
   "cell_type": "markdown",
   "metadata": {},
   "source": [
    "### Naive bayes models"
   ]
  },
  {
   "cell_type": "code",
   "execution_count": 287,
   "metadata": {},
   "outputs": [
    {
     "data": {
      "text/plain": [
       "MultinomialNB(alpha=1.0, class_prior=None, fit_prior=True)"
      ]
     },
     "execution_count": 287,
     "metadata": {},
     "output_type": "execute_result"
    }
   ],
   "source": [
    "from sklearn.naive_bayes import MultinomialNB\n",
    "X_train,X_test, y_train,y_test = train_test_split(X, y,random_state=2017)\n",
    "tfidf = TfidfVectorizer()\n",
    "\n",
    "X_train = tfidf.fit_transform(X_train)\n",
    "X_test = tfidf.transform(X_test)\n",
    "\n",
    "mnb = MultinomialNB()\n",
    "mnb.fit(X_train,y_train)\n"
   ]
  },
  {
   "cell_type": "code",
   "execution_count": 288,
   "metadata": {
    "collapsed": true
   },
   "outputs": [],
   "source": [
    "df_X_train = pd.DataFrame(X_train.todense(), columns=tfidf.get_feature_names())"
   ]
  },
  {
   "cell_type": "code",
   "execution_count": 289,
   "metadata": {
    "collapsed": true
   },
   "outputs": [],
   "source": [
    "ypreds = mnb.predict(X_test)"
   ]
  },
  {
   "cell_type": "code",
   "execution_count": 290,
   "metadata": {},
   "outputs": [
    {
     "name": "stdout",
     "output_type": "stream",
     "text": [
      "0.519512195122\n",
      "             precision    recall  f1-score   support\n",
      "\n",
      "          1       0.43      0.09      0.15       532\n",
      "          2       0.51      0.34      0.41       579\n",
      "          3       0.53      0.87      0.66       939\n",
      "\n",
      "avg / total       0.50      0.52      0.46      2050\n",
      "\n",
      "    1    2    3\n",
      "1  50  106  376\n",
      "2  29  197  353\n",
      "3  37   84  818\n"
     ]
    }
   ],
   "source": [
    "conmat_1 = confusion_matrix(y_test, ypreds, labels=mnb.classes_)\n",
    "conmat_1 = pd.DataFrame(conmat_1, columns=mnb.classes_, index=mnb.classes_)\n",
    "print(accuracy_score(y_test,ypreds))\n",
    "scoring_dict['Naive Bayes Accuracy'] = float(accuracy_score(y_test,ypreds))\n",
    "print(classification_report(y_test,ypreds))\n",
    "print( conmat_1)"
   ]
  },
  {
   "cell_type": "code",
   "execution_count": 291,
   "metadata": {},
   "outputs": [
    {
     "data": {
      "text/plain": [
       "MultinomialNB(alpha=1.0, class_prior=None, fit_prior=True)"
      ]
     },
     "execution_count": 291,
     "metadata": {},
     "output_type": "execute_result"
    }
   ],
   "source": [
    "# Naive bayes using ngram_range = 2,4\n",
    "from sklearn.naive_bayes import MultinomialNB\n",
    "X_train,X_test, y_train,y_test = train_test_split(X, y,random_state=2017)\n",
    "tfidf = TfidfVectorizer(ngram_range=(2,4))\n",
    "\n",
    "X_train = tfidf.fit_transform(X_train)\n",
    "X_test = tfidf.transform(X_test)\n",
    "\n",
    "mnb = MultinomialNB()\n",
    "mnb.fit(X_train,y_train)"
   ]
  },
  {
   "cell_type": "code",
   "execution_count": 292,
   "metadata": {},
   "outputs": [
    {
     "name": "stdout",
     "output_type": "stream",
     "text": [
      "0.51512195122\n",
      "             precision    recall  f1-score   support\n",
      "\n",
      "          1       0.40      0.06      0.11       532\n",
      "          2       0.60      0.28      0.38       579\n",
      "          3       0.51      0.91      0.65       939\n",
      "\n",
      "avg / total       0.51      0.52      0.44      2050\n",
      "\n",
      "    1    2    3\n",
      "1  34   61  437\n",
      "2  19  163  397\n",
      "3  31   49  859\n"
     ]
    }
   ],
   "source": [
    "ypreds = mnb.predict(X_test)\n",
    "conmat_1 = confusion_matrix(y_test, ypreds, labels=mnb.classes_)\n",
    "conmat_1 = pd.DataFrame(conmat_1, columns=mnb.classes_, index=mnb.classes_)\n",
    "print(accuracy_score(y_test,ypreds))\n",
    "scoring_dict['Naive Bayes Accuracy_2_4'] = float(accuracy_score(y_test,ypreds))\n",
    "print(classification_report(y_test,ypreds))\n",
    "print( conmat_1)"
   ]
  },
  {
   "cell_type": "markdown",
   "metadata": {},
   "source": [
    "### Support Vector Machine"
   ]
  },
  {
   "cell_type": "code",
   "execution_count": 293,
   "metadata": {
    "collapsed": true
   },
   "outputs": [],
   "source": [
    "from sklearn.svm import SVC"
   ]
  },
  {
   "cell_type": "code",
   "execution_count": 294,
   "metadata": {},
   "outputs": [
    {
     "data": {
      "text/plain": [
       "SVC(C=0.01, cache_size=200, class_weight='balanced', coef0=0.0,\n",
       "  decision_function_shape='ovr', degree=3, gamma='auto', kernel='linear',\n",
       "  max_iter=-1, probability=False, random_state=None, shrinking=True,\n",
       "  tol=0.001, verbose=False)"
      ]
     },
     "execution_count": 294,
     "metadata": {},
     "output_type": "execute_result"
    }
   ],
   "source": [
    "from sklearn.svm import SVC\n",
    "X_train,X_test, y_train,y_test = train_test_split(X, y,random_state=2019)\n",
    "tfidf = TfidfVectorizer()\n",
    "\n",
    "X_train = tfidf.fit_transform(X_train)\n",
    "X_test = tfidf.transform(X_test)\n",
    "\n",
    "svc = SVC(class_weight='balanced', C=.01, kernel='linear')\n",
    "svc.fit(X_train,y_train)"
   ]
  },
  {
   "cell_type": "code",
   "execution_count": 295,
   "metadata": {},
   "outputs": [
    {
     "name": "stdout",
     "output_type": "stream",
     "text": [
      "0.358048780488\n",
      "             precision    recall  f1-score   support\n",
      "\n",
      "          1       0.00      0.00      0.00       502\n",
      "          2       0.32      1.00      0.49       626\n",
      "          3       1.00      0.12      0.21       922\n",
      "\n",
      "avg / total       0.55      0.36      0.24      2050\n",
      "\n",
      "   1    2    3\n",
      "1  0  502    0\n",
      "2  0  626    0\n",
      "3  0  814  108\n"
     ]
    },
    {
     "name": "stderr",
     "output_type": "stream",
     "text": [
      "//anaconda/envs/py36/lib/python3.6/site-packages/sklearn/metrics/classification.py:1135: UndefinedMetricWarning: Precision and F-score are ill-defined and being set to 0.0 in labels with no predicted samples.\n",
      "  'precision', 'predicted', average, warn_for)\n"
     ]
    }
   ],
   "source": [
    "ypreds = svc.predict(X_test)\n",
    "conmat_1 = confusion_matrix(y_test, ypreds, labels=svc.classes_)\n",
    "conmat_1 = pd.DataFrame(conmat_1, columns=svc.classes_, index=svc.classes_)\n",
    "print(accuracy_score(y_test,ypreds))\n",
    "scoring_dict['Support Vector Machine'] = float(accuracy_score(y_test,ypreds))\n",
    "print(classification_report(y_test,ypreds))\n",
    "print( conmat_1)"
   ]
  },
  {
   "cell_type": "markdown",
   "metadata": {},
   "source": [
    "This model does not give us any signal. It randomly predicts one class or another  "
   ]
  },
  {
   "cell_type": "markdown",
   "metadata": {},
   "source": [
    "### Gradient Boosting model"
   ]
  },
  {
   "cell_type": "code",
   "execution_count": 296,
   "metadata": {},
   "outputs": [
    {
     "data": {
      "text/plain": [
       "GradientBoostingClassifier(criterion='friedman_mse', init=None,\n",
       "              learning_rate=0.1, loss='deviance', max_depth=3,\n",
       "              max_features=None, max_leaf_nodes=None,\n",
       "              min_impurity_decrease=0.0, min_impurity_split=None,\n",
       "              min_samples_leaf=1, min_samples_split=2,\n",
       "              min_weight_fraction_leaf=0.0, n_estimators=100,\n",
       "              presort='auto', random_state=None, subsample=1.0, verbose=0,\n",
       "              warm_start=False)"
      ]
     },
     "execution_count": 296,
     "metadata": {},
     "output_type": "execute_result"
    }
   ],
   "source": [
    "X_train,X_test, y_train,y_test = train_test_split(X, y,random_state=2019)\n",
    "tfidf = TfidfVectorizer()\n",
    "X_train = tfidf.fit_transform(X_train)\n",
    "X_test = tfidf.transform(X_test)\n",
    "\n",
    "gb =GradientBoostingClassifier()\n",
    "gb.fit(X_train,y_train)"
   ]
  },
  {
   "cell_type": "code",
   "execution_count": 297,
   "metadata": {},
   "outputs": [
    {
     "name": "stdout",
     "output_type": "stream",
     "text": [
      "0.52\n",
      "             precision    recall  f1-score   support\n",
      "\n",
      "          1       0.57      0.08      0.14       502\n",
      "          2       0.72      0.24      0.37       626\n",
      "          3       0.49      0.95      0.65       922\n",
      "\n",
      "avg / total       0.58      0.52      0.44      2050\n",
      "\n",
      "    1    2    3\n",
      "1  40   22  440\n",
      "2  18  153  455\n",
      "3  12   37  873\n"
     ]
    }
   ],
   "source": [
    "ypreds = gb.predict(X_test)\n",
    "conmat_1 = confusion_matrix(y_test, ypreds, labels=gb.classes_)\n",
    "conmat_1 = pd.DataFrame(conmat_1, columns=gb.classes_, index=gb.classes_)\n",
    "print(accuracy_score(y_test,ypreds))\n",
    "scoring_dict['Gradient Boosting model'] = float(accuracy_score(y_test,ypreds))\n",
    "print(classification_report(y_test,ypreds))\n",
    "print( conmat_1)"
   ]
  },
  {
   "cell_type": "markdown",
   "metadata": {},
   "source": [
    "### Adaboost model"
   ]
  },
  {
   "cell_type": "code",
   "execution_count": 298,
   "metadata": {},
   "outputs": [
    {
     "data": {
      "text/plain": [
       "AdaBoostClassifier(algorithm='SAMME.R', base_estimator=None,\n",
       "          learning_rate=1.0, n_estimators=50, random_state=None)"
      ]
     },
     "execution_count": 298,
     "metadata": {},
     "output_type": "execute_result"
    }
   ],
   "source": [
    "X_train,X_test, y_train,y_test = train_test_split(X, y,random_state=2019)\n",
    "tfidf = TfidfVectorizer()\n",
    "X_train = tfidf.fit_transform(X_train)\n",
    "X_test = tfidf.transform(X_test)\n",
    "\n",
    "ada =AdaBoostClassifier()\n",
    "ada.fit(X_train,y_train)"
   ]
  },
  {
   "cell_type": "code",
   "execution_count": 299,
   "metadata": {},
   "outputs": [
    {
     "name": "stdout",
     "output_type": "stream",
     "text": [
      "0.506829268293\n",
      "             precision    recall  f1-score   support\n",
      "\n",
      "          1       0.46      0.04      0.08       502\n",
      "          2       0.68      0.24      0.35       626\n",
      "          3       0.49      0.94      0.64       922\n",
      "\n",
      "avg / total       0.54      0.51      0.42      2050\n",
      "\n",
      "    1    2    3\n",
      "1  21   26  455\n",
      "2  15  150  461\n",
      "3  10   44  868\n"
     ]
    }
   ],
   "source": [
    "ypreds = ada.predict(X_test)\n",
    "conmat_1 = confusion_matrix(y_test, ypreds, labels=ada.classes_)\n",
    "conmat_1 = pd.DataFrame(conmat_1, columns=ada.classes_, index=ada.classes_)\n",
    "print(accuracy_score(y_test,ypreds))\n",
    "scoring_dict['Adaboost model'] = float(accuracy_score(y_test,ypreds))\n",
    "print(classification_report(y_test,ypreds))\n",
    "print( conmat_1)"
   ]
  },
  {
   "cell_type": "markdown",
   "metadata": {},
   "source": [
    "### Random Forest models"
   ]
  },
  {
   "cell_type": "code",
   "execution_count": 300,
   "metadata": {},
   "outputs": [
    {
     "data": {
      "text/plain": [
       "RandomForestClassifier(bootstrap=True, class_weight=None, criterion='gini',\n",
       "            max_depth=None, max_features='auto', max_leaf_nodes=None,\n",
       "            min_impurity_decrease=0.0, min_impurity_split=None,\n",
       "            min_samples_leaf=1, min_samples_split=2,\n",
       "            min_weight_fraction_leaf=0.0, n_estimators=10, n_jobs=1,\n",
       "            oob_score=False, random_state=None, verbose=0,\n",
       "            warm_start=False)"
      ]
     },
     "execution_count": 300,
     "metadata": {},
     "output_type": "execute_result"
    }
   ],
   "source": [
    "tfidf = TfidfVectorizer()\n",
    "rf = RandomForestClassifier()\n",
    "rf.fit(X_train,y_train)"
   ]
  },
  {
   "cell_type": "code",
   "execution_count": 301,
   "metadata": {},
   "outputs": [
    {
     "name": "stdout",
     "output_type": "stream",
     "text": [
      "0.480487804878\n",
      "             precision    recall  f1-score   support\n",
      "\n",
      "          1       0.32      0.23      0.27       502\n",
      "          2       0.47      0.37      0.42       626\n",
      "          3       0.53      0.69      0.60       922\n",
      "\n",
      "avg / total       0.46      0.48      0.46      2050\n",
      "\n",
      "     1    2    3\n",
      "1  115  112  275\n",
      "2  114  234  278\n",
      "3  136  150  636\n"
     ]
    }
   ],
   "source": [
    "ypreds = rf.predict(X_test)\n",
    "conmat_1 = confusion_matrix(y_test, ypreds, labels=rf.classes_)\n",
    "conmat_1 = pd.DataFrame(conmat_1, columns=rf.classes_, index=rf.classes_)\n",
    "print(accuracy_score(y_test,ypreds))\n",
    "scoring_dict['Random Forest models'] = float(accuracy_score(y_test,ypreds))\n",
    "print(classification_report(y_test,ypreds))\n",
    "print( conmat_1)"
   ]
  },
  {
   "cell_type": "code",
   "execution_count": 302,
   "metadata": {},
   "outputs": [
    {
     "data": {
      "text/html": [
       "<div>\n",
       "<style>\n",
       "    .dataframe thead tr:only-child th {\n",
       "        text-align: right;\n",
       "    }\n",
       "\n",
       "    .dataframe thead th {\n",
       "        text-align: left;\n",
       "    }\n",
       "\n",
       "    .dataframe tbody tr th {\n",
       "        vertical-align: top;\n",
       "    }\n",
       "</style>\n",
       "<table border=\"1\" class=\"dataframe\">\n",
       "  <thead>\n",
       "    <tr style=\"text-align: right;\">\n",
       "      <th></th>\n",
       "      <th>Coeffs</th>\n",
       "    </tr>\n",
       "  </thead>\n",
       "  <tbody>\n",
       "    <tr>\n",
       "      <th>mnpr</th>\n",
       "      <td>0.012932</td>\n",
       "    </tr>\n",
       "    <tr>\n",
       "      <th>thanks</th>\n",
       "      <td>0.010943</td>\n",
       "    </tr>\n",
       "    <tr>\n",
       "      <th>daily</th>\n",
       "      <td>0.010386</td>\n",
       "    </tr>\n",
       "    <tr>\n",
       "      <th>relations</th>\n",
       "      <td>0.007332</td>\n",
       "    </tr>\n",
       "    <tr>\n",
       "      <th>minnesota</th>\n",
       "      <td>0.007234</td>\n",
       "    </tr>\n",
       "    <tr>\n",
       "      <th>blog</th>\n",
       "      <td>0.005274</td>\n",
       "    </tr>\n",
       "    <tr>\n",
       "      <th>job</th>\n",
       "      <td>0.004684</td>\n",
       "    </tr>\n",
       "    <tr>\n",
       "      <th>latest</th>\n",
       "      <td>0.004268</td>\n",
       "    </tr>\n",
       "    <tr>\n",
       "      <th>trump</th>\n",
       "      <td>0.003764</td>\n",
       "    </tr>\n",
       "    <tr>\n",
       "      <th>new</th>\n",
       "      <td>0.002899</td>\n",
       "    </tr>\n",
       "    <tr>\n",
       "      <th>president</th>\n",
       "      <td>0.002810</td>\n",
       "    </tr>\n",
       "    <tr>\n",
       "      <th>opinion</th>\n",
       "      <td>0.002696</td>\n",
       "    </tr>\n",
       "    <tr>\n",
       "      <th>amp</th>\n",
       "      <td>0.002567</td>\n",
       "    </tr>\n",
       "    <tr>\n",
       "      <th>cbs</th>\n",
       "      <td>0.002470</td>\n",
       "    </tr>\n",
       "    <tr>\n",
       "      <th>roy</th>\n",
       "      <td>0.002350</td>\n",
       "    </tr>\n",
       "    <tr>\n",
       "      <th>says</th>\n",
       "      <td>0.002346</td>\n",
       "    </tr>\n",
       "    <tr>\n",
       "      <th>people</th>\n",
       "      <td>0.002338</td>\n",
       "    </tr>\n",
       "    <tr>\n",
       "      <th>back</th>\n",
       "      <td>0.002292</td>\n",
       "    </tr>\n",
       "    <tr>\n",
       "      <th>police</th>\n",
       "      <td>0.002045</td>\n",
       "    </tr>\n",
       "    <tr>\n",
       "      <th>alabama</th>\n",
       "      <td>0.002041</td>\n",
       "    </tr>\n",
       "    <tr>\n",
       "      <th>ryan</th>\n",
       "      <td>0.001987</td>\n",
       "    </tr>\n",
       "    <tr>\n",
       "      <th>jones</th>\n",
       "      <td>0.001971</td>\n",
       "    </tr>\n",
       "    <tr>\n",
       "      <th>woman</th>\n",
       "      <td>0.001951</td>\n",
       "    </tr>\n",
       "    <tr>\n",
       "      <th>heres</th>\n",
       "      <td>0.001951</td>\n",
       "    </tr>\n",
       "    <tr>\n",
       "      <th>could</th>\n",
       "      <td>0.001924</td>\n",
       "    </tr>\n",
       "    <tr>\n",
       "      <th>morning</th>\n",
       "      <td>0.001900</td>\n",
       "    </tr>\n",
       "    <tr>\n",
       "      <th>technology</th>\n",
       "      <td>0.001896</td>\n",
       "    </tr>\n",
       "    <tr>\n",
       "      <th>tonight</th>\n",
       "      <td>0.001896</td>\n",
       "    </tr>\n",
       "    <tr>\n",
       "      <th>say</th>\n",
       "      <td>0.001894</td>\n",
       "    </tr>\n",
       "    <tr>\n",
       "      <th>marketing</th>\n",
       "      <td>0.001886</td>\n",
       "    </tr>\n",
       "    <tr>\n",
       "      <th>...</th>\n",
       "      <td>...</td>\n",
       "    </tr>\n",
       "    <tr>\n",
       "      <th>am2dm</th>\n",
       "      <td>0.001240</td>\n",
       "    </tr>\n",
       "    <tr>\n",
       "      <th>found</th>\n",
       "      <td>0.001239</td>\n",
       "    </tr>\n",
       "    <tr>\n",
       "      <th>got</th>\n",
       "      <td>0.001238</td>\n",
       "    </tr>\n",
       "    <tr>\n",
       "      <th>times</th>\n",
       "      <td>0.001237</td>\n",
       "    </tr>\n",
       "    <tr>\n",
       "      <th>china</th>\n",
       "      <td>0.001228</td>\n",
       "    </tr>\n",
       "    <tr>\n",
       "      <th>finds</th>\n",
       "      <td>0.001212</td>\n",
       "    </tr>\n",
       "    <tr>\n",
       "      <th>first</th>\n",
       "      <td>0.001200</td>\n",
       "    </tr>\n",
       "    <tr>\n",
       "      <th>star</th>\n",
       "      <td>0.001199</td>\n",
       "    </tr>\n",
       "    <tr>\n",
       "      <th>know</th>\n",
       "      <td>0.001191</td>\n",
       "    </tr>\n",
       "    <tr>\n",
       "      <th>two</th>\n",
       "      <td>0.001187</td>\n",
       "    </tr>\n",
       "    <tr>\n",
       "      <th>https</th>\n",
       "      <td>0.001177</td>\n",
       "    </tr>\n",
       "    <tr>\n",
       "      <th>atlanta</th>\n",
       "      <td>0.001174</td>\n",
       "    </tr>\n",
       "    <tr>\n",
       "      <th>election</th>\n",
       "      <td>0.001169</td>\n",
       "    </tr>\n",
       "    <tr>\n",
       "      <th>communications</th>\n",
       "      <td>0.001169</td>\n",
       "    </tr>\n",
       "    <tr>\n",
       "      <th>left</th>\n",
       "      <td>0.001166</td>\n",
       "    </tr>\n",
       "    <tr>\n",
       "      <th>matt</th>\n",
       "      <td>0.001157</td>\n",
       "    </tr>\n",
       "    <tr>\n",
       "      <th>attack</th>\n",
       "      <td>0.001152</td>\n",
       "    </tr>\n",
       "    <tr>\n",
       "      <th>state</th>\n",
       "      <td>0.001140</td>\n",
       "    </tr>\n",
       "    <tr>\n",
       "      <th>women</th>\n",
       "      <td>0.001125</td>\n",
       "    </tr>\n",
       "    <tr>\n",
       "      <th>australia</th>\n",
       "      <td>0.001120</td>\n",
       "    </tr>\n",
       "    <tr>\n",
       "      <th>intern</th>\n",
       "      <td>0.001119</td>\n",
       "    </tr>\n",
       "    <tr>\n",
       "      <th>john</th>\n",
       "      <td>0.001117</td>\n",
       "    </tr>\n",
       "    <tr>\n",
       "      <th>video</th>\n",
       "      <td>0.001116</td>\n",
       "    </tr>\n",
       "    <tr>\n",
       "      <th>clinton</th>\n",
       "      <td>0.001113</td>\n",
       "    </tr>\n",
       "    <tr>\n",
       "      <th>defense</th>\n",
       "      <td>0.001111</td>\n",
       "    </tr>\n",
       "    <tr>\n",
       "      <th>gop</th>\n",
       "      <td>0.001105</td>\n",
       "    </tr>\n",
       "    <tr>\n",
       "      <th>mns</th>\n",
       "      <td>0.001097</td>\n",
       "    </tr>\n",
       "    <tr>\n",
       "      <th>republicans</th>\n",
       "      <td>0.001089</td>\n",
       "    </tr>\n",
       "    <tr>\n",
       "      <th>sanders</th>\n",
       "      <td>0.001086</td>\n",
       "    </tr>\n",
       "    <tr>\n",
       "      <th>california</th>\n",
       "      <td>0.001075</td>\n",
       "    </tr>\n",
       "  </tbody>\n",
       "</table>\n",
       "<p>100 rows × 1 columns</p>\n",
       "</div>"
      ],
      "text/plain": [
       "                  Coeffs\n",
       "mnpr            0.012932\n",
       "thanks          0.010943\n",
       "daily           0.010386\n",
       "relations       0.007332\n",
       "minnesota       0.007234\n",
       "blog            0.005274\n",
       "job             0.004684\n",
       "latest          0.004268\n",
       "trump           0.003764\n",
       "new             0.002899\n",
       "president       0.002810\n",
       "opinion         0.002696\n",
       "amp             0.002567\n",
       "cbs             0.002470\n",
       "roy             0.002350\n",
       "says            0.002346\n",
       "people          0.002338\n",
       "back            0.002292\n",
       "police          0.002045\n",
       "alabama         0.002041\n",
       "ryan            0.001987\n",
       "jones           0.001971\n",
       "woman           0.001951\n",
       "heres           0.001951\n",
       "could           0.001924\n",
       "morning         0.001900\n",
       "technology      0.001896\n",
       "tonight         0.001896\n",
       "say             0.001894\n",
       "marketing       0.001886\n",
       "...                  ...\n",
       "am2dm           0.001240\n",
       "found           0.001239\n",
       "got             0.001238\n",
       "times           0.001237\n",
       "china           0.001228\n",
       "finds           0.001212\n",
       "first           0.001200\n",
       "star            0.001199\n",
       "know            0.001191\n",
       "two             0.001187\n",
       "https           0.001177\n",
       "atlanta         0.001174\n",
       "election        0.001169\n",
       "communications  0.001169\n",
       "left            0.001166\n",
       "matt            0.001157\n",
       "attack          0.001152\n",
       "state           0.001140\n",
       "women           0.001125\n",
       "australia       0.001120\n",
       "intern          0.001119\n",
       "john            0.001117\n",
       "video           0.001116\n",
       "clinton         0.001113\n",
       "defense         0.001111\n",
       "gop             0.001105\n",
       "mns             0.001097\n",
       "republicans     0.001089\n",
       "sanders         0.001086\n",
       "california      0.001075\n",
       "\n",
       "[100 rows x 1 columns]"
      ]
     },
     "execution_count": 302,
     "metadata": {},
     "output_type": "execute_result"
    }
   ],
   "source": [
    "# MOST PREDICTIVE WORDS USING ngram 1,1\n",
    "X_train,X_test, y_train,y_test = train_test_split(X, y,random_state=2017)\n",
    "tfidf = TfidfVectorizer(ngram_range=(1,1))\n",
    "\n",
    "X_train1 = tfidf.fit_transform(X_train)\n",
    "X_test1 = tfidf.transform(X_test)\n",
    "\n",
    "rf = RandomForestClassifier()\n",
    "rf.fit(X_train1,y_train)\n",
    "\n",
    "df_X_train1 = pd.DataFrame(X_train1.todense(), columns=tfidf.get_feature_names())\n",
    "\n",
    "#MOST PREDICTIVE WORDS\n",
    "coes1 = pd.DataFrame(rf.feature_importances_, index =df_X_train1.columns,columns=['Coeffs'])\n",
    "\n",
    "word_ind1 = coes1.sort_values('Coeffs', ascending=False)[:100]\n",
    "word_ind1"
   ]
  },
  {
   "cell_type": "markdown",
   "metadata": {},
   "source": [
    "### finding the most predictive words using ngram_range 1,2"
   ]
  },
  {
   "cell_type": "code",
   "execution_count": 303,
   "metadata": {},
   "outputs": [
    {
     "data": {
      "text/html": [
       "<div>\n",
       "<style>\n",
       "    .dataframe thead tr:only-child th {\n",
       "        text-align: right;\n",
       "    }\n",
       "\n",
       "    .dataframe thead th {\n",
       "        text-align: left;\n",
       "    }\n",
       "\n",
       "    .dataframe tbody tr th {\n",
       "        vertical-align: top;\n",
       "    }\n",
       "</style>\n",
       "<table border=\"1\" class=\"dataframe\">\n",
       "  <thead>\n",
       "    <tr style=\"text-align: right;\">\n",
       "      <th></th>\n",
       "      <th>Coeffs</th>\n",
       "    </tr>\n",
       "  </thead>\n",
       "  <tbody>\n",
       "    <tr>\n",
       "      <th>ryan</th>\n",
       "      <td>0.011110</td>\n",
       "    </tr>\n",
       "    <tr>\n",
       "      <th>via minnesota</th>\n",
       "      <td>0.008427</td>\n",
       "    </tr>\n",
       "    <tr>\n",
       "      <th>minnesota</th>\n",
       "      <td>0.008170</td>\n",
       "    </tr>\n",
       "    <tr>\n",
       "      <th>mnpr</th>\n",
       "      <td>0.007393</td>\n",
       "    </tr>\n",
       "    <tr>\n",
       "      <th>latest mnpr</th>\n",
       "      <td>0.005076</td>\n",
       "    </tr>\n",
       "    <tr>\n",
       "      <th>relations blog</th>\n",
       "      <td>0.004311</td>\n",
       "    </tr>\n",
       "    <tr>\n",
       "      <th>ryan may</th>\n",
       "      <td>0.003429</td>\n",
       "    </tr>\n",
       "    <tr>\n",
       "      <th>mnpr ryan</th>\n",
       "      <td>0.003311</td>\n",
       "    </tr>\n",
       "    <tr>\n",
       "      <th>marketing</th>\n",
       "      <td>0.002768</td>\n",
       "    </tr>\n",
       "    <tr>\n",
       "      <th>cbs</th>\n",
       "      <td>0.002405</td>\n",
       "    </tr>\n",
       "    <tr>\n",
       "      <th>blog</th>\n",
       "      <td>0.002353</td>\n",
       "    </tr>\n",
       "    <tr>\n",
       "      <th>travel</th>\n",
       "      <td>0.002021</td>\n",
       "    </tr>\n",
       "    <tr>\n",
       "      <th>amp</th>\n",
       "      <td>0.001967</td>\n",
       "    </tr>\n",
       "    <tr>\n",
       "      <th>us</th>\n",
       "      <td>0.001910</td>\n",
       "    </tr>\n",
       "    <tr>\n",
       "      <th>trump</th>\n",
       "      <td>0.001888</td>\n",
       "    </tr>\n",
       "    <tr>\n",
       "      <th>president</th>\n",
       "      <td>0.001829</td>\n",
       "    </tr>\n",
       "    <tr>\n",
       "      <th>thanks technology</th>\n",
       "      <td>0.001703</td>\n",
       "    </tr>\n",
       "    <tr>\n",
       "      <th>new</th>\n",
       "      <td>0.001674</td>\n",
       "    </tr>\n",
       "    <tr>\n",
       "      <th>job</th>\n",
       "      <td>0.001627</td>\n",
       "    </tr>\n",
       "    <tr>\n",
       "      <th>seeks</th>\n",
       "      <td>0.001607</td>\n",
       "    </tr>\n",
       "    <tr>\n",
       "      <th>president trump</th>\n",
       "      <td>0.001571</td>\n",
       "    </tr>\n",
       "    <tr>\n",
       "      <th>start</th>\n",
       "      <td>0.001529</td>\n",
       "    </tr>\n",
       "    <tr>\n",
       "      <th>relations</th>\n",
       "      <td>0.001519</td>\n",
       "    </tr>\n",
       "    <tr>\n",
       "      <th>via</th>\n",
       "      <td>0.001504</td>\n",
       "    </tr>\n",
       "    <tr>\n",
       "      <th>season</th>\n",
       "      <td>0.001474</td>\n",
       "    </tr>\n",
       "    <tr>\n",
       "      <th>says</th>\n",
       "      <td>0.001463</td>\n",
       "    </tr>\n",
       "    <tr>\n",
       "      <th>roy</th>\n",
       "      <td>0.001414</td>\n",
       "    </tr>\n",
       "    <tr>\n",
       "      <th>tax</th>\n",
       "      <td>0.001413</td>\n",
       "    </tr>\n",
       "    <tr>\n",
       "      <th>back</th>\n",
       "      <td>0.001382</td>\n",
       "    </tr>\n",
       "    <tr>\n",
       "      <th>alabama</th>\n",
       "      <td>0.001379</td>\n",
       "    </tr>\n",
       "    <tr>\n",
       "      <th>...</th>\n",
       "      <td>...</td>\n",
       "    </tr>\n",
       "    <tr>\n",
       "      <th>roy moore</th>\n",
       "      <td>0.000930</td>\n",
       "    </tr>\n",
       "    <tr>\n",
       "      <th>called</th>\n",
       "      <td>0.000929</td>\n",
       "    </tr>\n",
       "    <tr>\n",
       "      <th>news</th>\n",
       "      <td>0.000918</td>\n",
       "    </tr>\n",
       "    <tr>\n",
       "      <th>mueller</th>\n",
       "      <td>0.000917</td>\n",
       "    </tr>\n",
       "    <tr>\n",
       "      <th>woman</th>\n",
       "      <td>0.000916</td>\n",
       "    </tr>\n",
       "    <tr>\n",
       "      <th>silence</th>\n",
       "      <td>0.000909</td>\n",
       "    </tr>\n",
       "    <tr>\n",
       "      <th>matt</th>\n",
       "      <td>0.000890</td>\n",
       "    </tr>\n",
       "    <tr>\n",
       "      <th>help</th>\n",
       "      <td>0.000888</td>\n",
       "    </tr>\n",
       "    <tr>\n",
       "      <th>port authority</th>\n",
       "      <td>0.000870</td>\n",
       "    </tr>\n",
       "    <tr>\n",
       "      <th>star</th>\n",
       "      <td>0.000869</td>\n",
       "    </tr>\n",
       "    <tr>\n",
       "      <th>women</th>\n",
       "      <td>0.000866</td>\n",
       "    </tr>\n",
       "    <tr>\n",
       "      <th>live</th>\n",
       "      <td>0.000858</td>\n",
       "    </tr>\n",
       "    <tr>\n",
       "      <th>john</th>\n",
       "      <td>0.000856</td>\n",
       "    </tr>\n",
       "    <tr>\n",
       "      <th>southern</th>\n",
       "      <td>0.000851</td>\n",
       "    </tr>\n",
       "    <tr>\n",
       "      <th>climate change</th>\n",
       "      <td>0.000839</td>\n",
       "    </tr>\n",
       "    <tr>\n",
       "      <th>mtp</th>\n",
       "      <td>0.000839</td>\n",
       "    </tr>\n",
       "    <tr>\n",
       "      <th>heres need</th>\n",
       "      <td>0.000833</td>\n",
       "    </tr>\n",
       "    <tr>\n",
       "      <th>exclusive</th>\n",
       "      <td>0.000832</td>\n",
       "    </tr>\n",
       "    <tr>\n",
       "      <th>jones</th>\n",
       "      <td>0.000831</td>\n",
       "    </tr>\n",
       "    <tr>\n",
       "      <th>hard</th>\n",
       "      <td>0.000830</td>\n",
       "    </tr>\n",
       "    <tr>\n",
       "      <th>set</th>\n",
       "      <td>0.000829</td>\n",
       "    </tr>\n",
       "    <tr>\n",
       "      <th>single</th>\n",
       "      <td>0.000829</td>\n",
       "    </tr>\n",
       "    <tr>\n",
       "      <th>investigation</th>\n",
       "      <td>0.000825</td>\n",
       "    </tr>\n",
       "    <tr>\n",
       "      <th>day</th>\n",
       "      <td>0.000824</td>\n",
       "    </tr>\n",
       "    <tr>\n",
       "      <th>ban</th>\n",
       "      <td>0.000823</td>\n",
       "    </tr>\n",
       "    <tr>\n",
       "      <th>michael</th>\n",
       "      <td>0.000819</td>\n",
       "    </tr>\n",
       "    <tr>\n",
       "      <th>bitcoin</th>\n",
       "      <td>0.000816</td>\n",
       "    </tr>\n",
       "    <tr>\n",
       "      <th>peek</th>\n",
       "      <td>0.000813</td>\n",
       "    </tr>\n",
       "    <tr>\n",
       "      <th>right</th>\n",
       "      <td>0.000810</td>\n",
       "    </tr>\n",
       "    <tr>\n",
       "      <th>tonight</th>\n",
       "      <td>0.000809</td>\n",
       "    </tr>\n",
       "  </tbody>\n",
       "</table>\n",
       "<p>100 rows × 1 columns</p>\n",
       "</div>"
      ],
      "text/plain": [
       "                     Coeffs\n",
       "ryan               0.011110\n",
       "via minnesota      0.008427\n",
       "minnesota          0.008170\n",
       "mnpr               0.007393\n",
       "latest mnpr        0.005076\n",
       "relations blog     0.004311\n",
       "ryan may           0.003429\n",
       "mnpr ryan          0.003311\n",
       "marketing          0.002768\n",
       "cbs                0.002405\n",
       "blog               0.002353\n",
       "travel             0.002021\n",
       "amp                0.001967\n",
       "us                 0.001910\n",
       "trump              0.001888\n",
       "president          0.001829\n",
       "thanks technology  0.001703\n",
       "new                0.001674\n",
       "job                0.001627\n",
       "seeks              0.001607\n",
       "president trump    0.001571\n",
       "start              0.001529\n",
       "relations          0.001519\n",
       "via                0.001504\n",
       "season             0.001474\n",
       "says               0.001463\n",
       "roy                0.001414\n",
       "tax                0.001413\n",
       "back               0.001382\n",
       "alabama            0.001379\n",
       "...                     ...\n",
       "roy moore          0.000930\n",
       "called             0.000929\n",
       "news               0.000918\n",
       "mueller            0.000917\n",
       "woman              0.000916\n",
       "silence            0.000909\n",
       "matt               0.000890\n",
       "help               0.000888\n",
       "port authority     0.000870\n",
       "star               0.000869\n",
       "women              0.000866\n",
       "live               0.000858\n",
       "john               0.000856\n",
       "southern           0.000851\n",
       "climate change     0.000839\n",
       "mtp                0.000839\n",
       "heres need         0.000833\n",
       "exclusive          0.000832\n",
       "jones              0.000831\n",
       "hard               0.000830\n",
       "set                0.000829\n",
       "single             0.000829\n",
       "investigation      0.000825\n",
       "day                0.000824\n",
       "ban                0.000823\n",
       "michael            0.000819\n",
       "bitcoin            0.000816\n",
       "peek               0.000813\n",
       "right              0.000810\n",
       "tonight            0.000809\n",
       "\n",
       "[100 rows x 1 columns]"
      ]
     },
     "execution_count": 303,
     "metadata": {},
     "output_type": "execute_result"
    }
   ],
   "source": [
    "# MOST PREDICTIVE WORDS USING ngram 1,2\n",
    "X_train,X_test, y_train,y_test = train_test_split(X, y,random_state=2017)\n",
    "tfidf2 = TfidfVectorizer(ngram_range=(1,2))\n",
    "\n",
    "X_train2 = tfidf2.fit_transform(X_train)\n",
    "X_test2 = tfidf2.transform(X_test)\n",
    "\n",
    "rf2 = RandomForestClassifier()\n",
    "rf2.fit(X_train2,y_train)\n",
    "\n",
    "df_X_train2 = pd.DataFrame(X_train2.todense(), columns=tfidf2.get_feature_names())\n",
    "\n",
    "#MOST PREDICTIVE WORDS\n",
    "coes2 = pd.DataFrame(rf2.feature_importances_, index =df_X_train2.columns,columns=['Coeffs'])\n",
    "\n",
    "word_ind2 = coes2.sort_values('Coeffs', ascending=False)[:100]\n",
    "word_ind2"
   ]
  },
  {
   "cell_type": "code",
   "execution_count": 249,
   "metadata": {
    "collapsed": true
   },
   "outputs": [],
   "source": [
    "# Model evaluation using ngram = 1,2"
   ]
  },
  {
   "cell_type": "code",
   "execution_count": 304,
   "metadata": {},
   "outputs": [
    {
     "name": "stdout",
     "output_type": "stream",
     "text": [
      "0.504390243902\n",
      "             precision    recall  f1-score   support\n",
      "\n",
      "          1       0.40      0.30      0.34       532\n",
      "          2       0.45      0.45      0.45       579\n",
      "          3       0.58      0.66      0.61       939\n",
      "\n",
      "avg / total       0.49      0.50      0.50      2050\n",
      "\n",
      "     1    2    3\n",
      "1  160  138  234\n",
      "2  100  258  221\n",
      "3  141  182  616\n"
     ]
    }
   ],
   "source": [
    "ypreds = rf2.predict(X_test2)\n",
    "conmat_1 = confusion_matrix(y_test, ypreds, labels=rf2.classes_)\n",
    "conmat_1 = pd.DataFrame(conmat_1, columns=rf2.classes_, index=rf2.classes_)\n",
    "print(accuracy_score(y_test,ypreds))\n",
    "scoring_dict['Random Forest models_1_2'] = float(accuracy_score(y_test,ypreds))\n",
    "print(classification_report(y_test,ypreds))\n",
    "print( conmat_1)"
   ]
  },
  {
   "cell_type": "markdown",
   "metadata": {},
   "source": [
    "### finding the most predictive words using ngram_range 2,2"
   ]
  },
  {
   "cell_type": "code",
   "execution_count": 305,
   "metadata": {},
   "outputs": [
    {
     "data": {
      "text/html": [
       "<div>\n",
       "<style>\n",
       "    .dataframe thead tr:only-child th {\n",
       "        text-align: right;\n",
       "    }\n",
       "\n",
       "    .dataframe thead th {\n",
       "        text-align: left;\n",
       "    }\n",
       "\n",
       "    .dataframe tbody tr th {\n",
       "        vertical-align: top;\n",
       "    }\n",
       "</style>\n",
       "<table border=\"1\" class=\"dataframe\">\n",
       "  <thead>\n",
       "    <tr style=\"text-align: right;\">\n",
       "      <th></th>\n",
       "      <th>Coeffs</th>\n",
       "    </tr>\n",
       "  </thead>\n",
       "  <tbody>\n",
       "    <tr>\n",
       "      <th>daily thanks</th>\n",
       "      <td>0.008956</td>\n",
       "    </tr>\n",
       "    <tr>\n",
       "      <th>via minnesota</th>\n",
       "      <td>0.007954</td>\n",
       "    </tr>\n",
       "    <tr>\n",
       "      <th>may daily</th>\n",
       "      <td>0.007305</td>\n",
       "    </tr>\n",
       "    <tr>\n",
       "      <th>mnpr ryan</th>\n",
       "      <td>0.007146</td>\n",
       "    </tr>\n",
       "    <tr>\n",
       "      <th>ryan may</th>\n",
       "      <td>0.006460</td>\n",
       "    </tr>\n",
       "    <tr>\n",
       "      <th>public relations</th>\n",
       "      <td>0.005790</td>\n",
       "    </tr>\n",
       "    <tr>\n",
       "      <th>relations blog</th>\n",
       "      <td>0.003585</td>\n",
       "    </tr>\n",
       "    <tr>\n",
       "      <th>minnesota public</th>\n",
       "      <td>0.003006</td>\n",
       "    </tr>\n",
       "    <tr>\n",
       "      <th>public mnpr</th>\n",
       "      <td>0.002417</td>\n",
       "    </tr>\n",
       "    <tr>\n",
       "      <th>seeks hire</th>\n",
       "      <td>0.002125</td>\n",
       "    </tr>\n",
       "    <tr>\n",
       "      <th>minnesota mnpr</th>\n",
       "      <td>0.002086</td>\n",
       "    </tr>\n",
       "    <tr>\n",
       "      <th>roy moore</th>\n",
       "      <td>0.001857</td>\n",
       "    </tr>\n",
       "    <tr>\n",
       "      <th>police say</th>\n",
       "      <td>0.001843</td>\n",
       "    </tr>\n",
       "    <tr>\n",
       "      <th>president trump</th>\n",
       "      <td>0.001834</td>\n",
       "    </tr>\n",
       "    <tr>\n",
       "      <th>pres trump</th>\n",
       "      <td>0.001832</td>\n",
       "    </tr>\n",
       "    <tr>\n",
       "      <th>matt lauer</th>\n",
       "      <td>0.001807</td>\n",
       "    </tr>\n",
       "    <tr>\n",
       "      <th>sneak peek</th>\n",
       "      <td>0.001557</td>\n",
       "    </tr>\n",
       "    <tr>\n",
       "      <th>latest mnpr</th>\n",
       "      <td>0.001542</td>\n",
       "    </tr>\n",
       "    <tr>\n",
       "      <th>al franken</th>\n",
       "      <td>0.001504</td>\n",
       "    </tr>\n",
       "    <tr>\n",
       "      <th>dont miss</th>\n",
       "      <td>0.001438</td>\n",
       "    </tr>\n",
       "    <tr>\n",
       "      <th>port authority</th>\n",
       "      <td>0.001415</td>\n",
       "    </tr>\n",
       "    <tr>\n",
       "      <th>climate change</th>\n",
       "      <td>0.001380</td>\n",
       "    </tr>\n",
       "    <tr>\n",
       "      <th>manager via</th>\n",
       "      <td>0.001350</td>\n",
       "    </tr>\n",
       "    <tr>\n",
       "      <th>sexual misconduct</th>\n",
       "      <td>0.001324</td>\n",
       "    </tr>\n",
       "    <tr>\n",
       "      <th>doug jones</th>\n",
       "      <td>0.001252</td>\n",
       "    </tr>\n",
       "    <tr>\n",
       "      <th>social media</th>\n",
       "      <td>0.001230</td>\n",
       "    </tr>\n",
       "    <tr>\n",
       "      <th>specialist via</th>\n",
       "      <td>0.001203</td>\n",
       "    </tr>\n",
       "    <tr>\n",
       "      <th>north korean</th>\n",
       "      <td>0.001126</td>\n",
       "    </tr>\n",
       "    <tr>\n",
       "      <th>century fox</th>\n",
       "      <td>0.001119</td>\n",
       "    </tr>\n",
       "    <tr>\n",
       "      <th>relations mnpr</th>\n",
       "      <td>0.001107</td>\n",
       "    </tr>\n",
       "    <tr>\n",
       "      <th>...</th>\n",
       "      <td>...</td>\n",
       "    </tr>\n",
       "    <tr>\n",
       "      <th>daily 202</th>\n",
       "      <td>0.000651</td>\n",
       "    </tr>\n",
       "    <tr>\n",
       "      <th>sarah sanders</th>\n",
       "      <td>0.000650</td>\n",
       "    </tr>\n",
       "    <tr>\n",
       "      <th>good morning</th>\n",
       "      <td>0.000650</td>\n",
       "    </tr>\n",
       "    <tr>\n",
       "      <th>digital marketing</th>\n",
       "      <td>0.000645</td>\n",
       "    </tr>\n",
       "    <tr>\n",
       "      <th>trumps jerusalem</th>\n",
       "      <td>0.000630</td>\n",
       "    </tr>\n",
       "    <tr>\n",
       "      <th>tax plan</th>\n",
       "      <td>0.000626</td>\n",
       "    </tr>\n",
       "    <tr>\n",
       "      <th>alabama via</th>\n",
       "      <td>0.000613</td>\n",
       "    </tr>\n",
       "    <tr>\n",
       "      <th>hillary clinton</th>\n",
       "      <td>0.000608</td>\n",
       "    </tr>\n",
       "    <tr>\n",
       "      <th>texas church</th>\n",
       "      <td>0.000604</td>\n",
       "    </tr>\n",
       "    <tr>\n",
       "      <th>sexual assault</th>\n",
       "      <td>0.000603</td>\n",
       "    </tr>\n",
       "    <tr>\n",
       "      <th>trump administration</th>\n",
       "      <td>0.000586</td>\n",
       "    </tr>\n",
       "    <tr>\n",
       "      <th>people killed</th>\n",
       "      <td>0.000585</td>\n",
       "    </tr>\n",
       "    <tr>\n",
       "      <th>former president</th>\n",
       "      <td>0.000584</td>\n",
       "    </tr>\n",
       "    <tr>\n",
       "      <th>bus terminal</th>\n",
       "      <td>0.000583</td>\n",
       "    </tr>\n",
       "    <tr>\n",
       "      <th>cyprus bank</th>\n",
       "      <td>0.000580</td>\n",
       "    </tr>\n",
       "    <tr>\n",
       "      <th>opposition candidate</th>\n",
       "      <td>0.000579</td>\n",
       "    </tr>\n",
       "    <tr>\n",
       "      <th>train derailment</th>\n",
       "      <td>0.000572</td>\n",
       "    </tr>\n",
       "    <tr>\n",
       "      <th>late night</th>\n",
       "      <td>0.000562</td>\n",
       "    </tr>\n",
       "    <tr>\n",
       "      <th>tax bill</th>\n",
       "      <td>0.000557</td>\n",
       "    </tr>\n",
       "    <tr>\n",
       "      <th>sen al</th>\n",
       "      <td>0.000549</td>\n",
       "    </tr>\n",
       "    <tr>\n",
       "      <th>attorney general</th>\n",
       "      <td>0.000548</td>\n",
       "    </tr>\n",
       "    <tr>\n",
       "      <th>account executive</th>\n",
       "      <td>0.000535</td>\n",
       "    </tr>\n",
       "    <tr>\n",
       "      <th>net neutrality</th>\n",
       "      <td>0.000529</td>\n",
       "    </tr>\n",
       "    <tr>\n",
       "      <th>united states</th>\n",
       "      <td>0.000528</td>\n",
       "    </tr>\n",
       "    <tr>\n",
       "      <th>officials say</th>\n",
       "      <td>0.000525</td>\n",
       "    </tr>\n",
       "    <tr>\n",
       "      <th>justice department</th>\n",
       "      <td>0.000522</td>\n",
       "    </tr>\n",
       "    <tr>\n",
       "      <th>star wars</th>\n",
       "      <td>0.000521</td>\n",
       "    </tr>\n",
       "    <tr>\n",
       "      <th>times person</th>\n",
       "      <td>0.000519</td>\n",
       "    </tr>\n",
       "    <tr>\n",
       "      <th>set fire</th>\n",
       "      <td>0.000518</td>\n",
       "    </tr>\n",
       "    <tr>\n",
       "      <th>media relations</th>\n",
       "      <td>0.000517</td>\n",
       "    </tr>\n",
       "  </tbody>\n",
       "</table>\n",
       "<p>100 rows × 1 columns</p>\n",
       "</div>"
      ],
      "text/plain": [
       "                        Coeffs\n",
       "daily thanks          0.008956\n",
       "via minnesota         0.007954\n",
       "may daily             0.007305\n",
       "mnpr ryan             0.007146\n",
       "ryan may              0.006460\n",
       "public relations      0.005790\n",
       "relations blog        0.003585\n",
       "minnesota public      0.003006\n",
       "public mnpr           0.002417\n",
       "seeks hire            0.002125\n",
       "minnesota mnpr        0.002086\n",
       "roy moore             0.001857\n",
       "police say            0.001843\n",
       "president trump       0.001834\n",
       "pres trump            0.001832\n",
       "matt lauer            0.001807\n",
       "sneak peek            0.001557\n",
       "latest mnpr           0.001542\n",
       "al franken            0.001504\n",
       "dont miss             0.001438\n",
       "port authority        0.001415\n",
       "climate change        0.001380\n",
       "manager via           0.001350\n",
       "sexual misconduct     0.001324\n",
       "doug jones            0.001252\n",
       "social media          0.001230\n",
       "specialist via        0.001203\n",
       "north korean          0.001126\n",
       "century fox           0.001119\n",
       "relations mnpr        0.001107\n",
       "...                        ...\n",
       "daily 202             0.000651\n",
       "sarah sanders         0.000650\n",
       "good morning          0.000650\n",
       "digital marketing     0.000645\n",
       "trumps jerusalem      0.000630\n",
       "tax plan              0.000626\n",
       "alabama via           0.000613\n",
       "hillary clinton       0.000608\n",
       "texas church          0.000604\n",
       "sexual assault        0.000603\n",
       "trump administration  0.000586\n",
       "people killed         0.000585\n",
       "former president      0.000584\n",
       "bus terminal          0.000583\n",
       "cyprus bank           0.000580\n",
       "opposition candidate  0.000579\n",
       "train derailment      0.000572\n",
       "late night            0.000562\n",
       "tax bill              0.000557\n",
       "sen al                0.000549\n",
       "attorney general      0.000548\n",
       "account executive     0.000535\n",
       "net neutrality        0.000529\n",
       "united states         0.000528\n",
       "officials say         0.000525\n",
       "justice department    0.000522\n",
       "star wars             0.000521\n",
       "times person          0.000519\n",
       "set fire              0.000518\n",
       "media relations       0.000517\n",
       "\n",
       "[100 rows x 1 columns]"
      ]
     },
     "execution_count": 305,
     "metadata": {},
     "output_type": "execute_result"
    }
   ],
   "source": [
    "# PREDICTIVE WORDS FOR ngram_range = 2,2\n",
    "X_train,X_test, y_train,y_test = train_test_split(X, y,random_state=2017)\n",
    "tfidf3 = TfidfVectorizer(ngram_range=(2,2))\n",
    "\n",
    "X_train3 = tfidf3.fit_transform(X_train)\n",
    "X_test3 = tfidf3.transform(X_test)\n",
    "\n",
    "rf3 = RandomForestClassifier()\n",
    "rf3.fit(X_train3,y_train)\n",
    "\n",
    "df_X_train3 = pd.DataFrame(X_train3.todense(), columns=tfidf3.get_feature_names())\n",
    "\n",
    "#MOST PREDICTIVE WORDS\n",
    "coes3 = pd.DataFrame(rf3.feature_importances_, index =df_X_train3.columns,columns=['Coeffs'])\n",
    "\n",
    "word_ind3 = coes3.sort_values('Coeffs', ascending=False)[:100]\n",
    "word_ind3"
   ]
  },
  {
   "cell_type": "code",
   "execution_count": 252,
   "metadata": {
    "collapsed": true
   },
   "outputs": [],
   "source": [
    "# Model evaluation using ngram 2,2"
   ]
  },
  {
   "cell_type": "code",
   "execution_count": 306,
   "metadata": {},
   "outputs": [
    {
     "name": "stdout",
     "output_type": "stream",
     "text": [
      "0.461951219512\n",
      "             precision    recall  f1-score   support\n",
      "\n",
      "          1       0.33      0.55      0.41       532\n",
      "          2       0.47      0.36      0.41       579\n",
      "          3       0.62      0.47      0.54       939\n",
      "\n",
      "avg / total       0.50      0.46      0.47      2050\n",
      "\n",
      "     1    2    3\n",
      "1  295  114  123\n",
      "2  222  209  148\n",
      "3  374  122  443\n"
     ]
    }
   ],
   "source": [
    "ypreds = rf3.predict(X_test3)\n",
    "conmat_1 = confusion_matrix(y_test, ypreds, labels=rf3.classes_)\n",
    "conmat_1 = pd.DataFrame(conmat_1, columns=rf3.classes_, index=rf3.classes_)\n",
    "print(accuracy_score(y_test,ypreds))\n",
    "scoring_dict['Random Forest models_2_2'] = float(accuracy_score(y_test,ypreds))\n",
    "print(classification_report(y_test,ypreds))\n",
    "print( conmat_1)"
   ]
  },
  {
   "cell_type": "markdown",
   "metadata": {},
   "source": [
    "###  Logistic Regression"
   ]
  },
  {
   "cell_type": "code",
   "execution_count": 307,
   "metadata": {},
   "outputs": [
    {
     "data": {
      "text/plain": [
       "LogisticRegression(C=1.0, class_weight=None, dual=False, fit_intercept=True,\n",
       "          intercept_scaling=1, max_iter=100, multi_class='ovr', n_jobs=1,\n",
       "          penalty='l2', random_state=None, solver='liblinear', tol=0.0001,\n",
       "          verbose=0, warm_start=False)"
      ]
     },
     "execution_count": 307,
     "metadata": {},
     "output_type": "execute_result"
    }
   ],
   "source": [
    "X_train,X_test, y_train,y_test = train_test_split(X, y,random_state=2017)\n",
    "tfidf = TfidfVectorizer(ngram_range=(2,2))\n",
    "\n",
    "X_train1 = tfidf.fit_transform(X_train)\n",
    "X_test1 = tfidf.transform(X_test)\n",
    "\n",
    "lr = LogisticRegression()\n",
    "lr.fit(X_train1,y_train)"
   ]
  },
  {
   "cell_type": "code",
   "execution_count": 308,
   "metadata": {},
   "outputs": [
    {
     "name": "stdout",
     "output_type": "stream",
     "text": [
      "0.513658536585\n",
      "             precision    recall  f1-score   support\n",
      "\n",
      "          1       0.37      0.07      0.12       532\n",
      "          2       0.56      0.30      0.39       579\n",
      "          3       0.51      0.90      0.65       939\n",
      "\n",
      "avg / total       0.49      0.51      0.44      2050\n",
      "\n",
      "    1    2    3\n",
      "1  38   73  421\n",
      "2  30  173  376\n",
      "3  36   61  842\n"
     ]
    }
   ],
   "source": [
    "ypreds = lr.predict(X_test1)\n",
    "conmat_1 = confusion_matrix(y_test, ypreds, labels=lr.classes_)\n",
    "conmat_1 = pd.DataFrame(conmat_1, columns=lr.classes_, index=lr.classes_)\n",
    "print(accuracy_score(y_test,ypreds))\n",
    "scoring_dict['Logistic Regression'] = float(accuracy_score(y_test,ypreds))\n",
    "print(classification_report(y_test,ypreds))\n",
    "print( conmat_1)"
   ]
  },
  {
   "cell_type": "code",
   "execution_count": 309,
   "metadata": {},
   "outputs": [
    {
     "data": {
      "text/html": [
       "<div>\n",
       "<style>\n",
       "    .dataframe thead tr:only-child th {\n",
       "        text-align: right;\n",
       "    }\n",
       "\n",
       "    .dataframe thead th {\n",
       "        text-align: left;\n",
       "    }\n",
       "\n",
       "    .dataframe tbody tr th {\n",
       "        vertical-align: top;\n",
       "    }\n",
       "</style>\n",
       "<table border=\"1\" class=\"dataframe\">\n",
       "  <thead>\n",
       "    <tr style=\"text-align: right;\">\n",
       "      <th></th>\n",
       "      <th>Breakfast</th>\n",
       "      <th>Lunch</th>\n",
       "      <th>Dinner</th>\n",
       "    </tr>\n",
       "  </thead>\n",
       "  <tbody>\n",
       "    <tr>\n",
       "      <th>via minnesota</th>\n",
       "      <td>-2.404740</td>\n",
       "      <td>4.227352</td>\n",
       "      <td>-2.888136</td>\n",
       "    </tr>\n",
       "    <tr>\n",
       "      <th>minnesota public</th>\n",
       "      <td>-2.118150</td>\n",
       "      <td>3.291181</td>\n",
       "      <td>-2.174884</td>\n",
       "    </tr>\n",
       "    <tr>\n",
       "      <th>public relations</th>\n",
       "      <td>-1.911889</td>\n",
       "      <td>3.085704</td>\n",
       "      <td>-2.098783</td>\n",
       "    </tr>\n",
       "    <tr>\n",
       "      <th>matt lauer</th>\n",
       "      <td>-0.275926</td>\n",
       "      <td>1.720166</td>\n",
       "      <td>-1.461177</td>\n",
       "    </tr>\n",
       "    <tr>\n",
       "      <th>police say</th>\n",
       "      <td>0.819517</td>\n",
       "      <td>0.565238</td>\n",
       "      <td>-1.357091</td>\n",
       "    </tr>\n",
       "    <tr>\n",
       "      <th>relations blog</th>\n",
       "      <td>-1.291757</td>\n",
       "      <td>1.899286</td>\n",
       "      <td>-1.305269</td>\n",
       "    </tr>\n",
       "    <tr>\n",
       "      <th>port authority</th>\n",
       "      <td>-0.363520</td>\n",
       "      <td>1.492007</td>\n",
       "      <td>-1.212523</td>\n",
       "    </tr>\n",
       "    <tr>\n",
       "      <th>public mnpr</th>\n",
       "      <td>-0.742973</td>\n",
       "      <td>1.599786</td>\n",
       "      <td>-1.125761</td>\n",
       "    </tr>\n",
       "    <tr>\n",
       "      <th>climate change</th>\n",
       "      <td>0.677455</td>\n",
       "      <td>0.447955</td>\n",
       "      <td>-1.066707</td>\n",
       "    </tr>\n",
       "    <tr>\n",
       "      <th>heres need</th>\n",
       "      <td>-0.398049</td>\n",
       "      <td>1.140580</td>\n",
       "      <td>-0.923689</td>\n",
       "    </tr>\n",
       "    <tr>\n",
       "      <th>minnesota mnpr</th>\n",
       "      <td>-0.574484</td>\n",
       "      <td>1.367499</td>\n",
       "      <td>-0.913583</td>\n",
       "    </tr>\n",
       "    <tr>\n",
       "      <th>trumps jerusalem</th>\n",
       "      <td>0.224930</td>\n",
       "      <td>0.641272</td>\n",
       "      <td>-0.831772</td>\n",
       "    </tr>\n",
       "    <tr>\n",
       "      <th>start day</th>\n",
       "      <td>-0.619883</td>\n",
       "      <td>1.193319</td>\n",
       "      <td>-0.806351</td>\n",
       "    </tr>\n",
       "    <tr>\n",
       "      <th>know start</th>\n",
       "      <td>-0.619883</td>\n",
       "      <td>1.193319</td>\n",
       "      <td>-0.806351</td>\n",
       "    </tr>\n",
       "    <tr>\n",
       "      <th>doug jones</th>\n",
       "      <td>0.673163</td>\n",
       "      <td>0.204996</td>\n",
       "      <td>-0.806137</td>\n",
       "    </tr>\n",
       "    <tr>\n",
       "      <th>southern california</th>\n",
       "      <td>0.265177</td>\n",
       "      <td>0.581811</td>\n",
       "      <td>-0.789892</td>\n",
       "    </tr>\n",
       "    <tr>\n",
       "      <th>north korean</th>\n",
       "      <td>0.710495</td>\n",
       "      <td>0.115319</td>\n",
       "      <td>-0.786913</td>\n",
       "    </tr>\n",
       "    <tr>\n",
       "      <th>accused sexual</th>\n",
       "      <td>0.627281</td>\n",
       "      <td>0.166688</td>\n",
       "      <td>-0.752455</td>\n",
       "    </tr>\n",
       "    <tr>\n",
       "      <th>police officer</th>\n",
       "      <td>0.202768</td>\n",
       "      <td>0.569314</td>\n",
       "      <td>-0.745825</td>\n",
       "    </tr>\n",
       "    <tr>\n",
       "      <th>tax overhaul</th>\n",
       "      <td>0.067818</td>\n",
       "      <td>0.712035</td>\n",
       "      <td>-0.743644</td>\n",
       "    </tr>\n",
       "    <tr>\n",
       "      <th>century fox</th>\n",
       "      <td>-0.455470</td>\n",
       "      <td>1.145065</td>\n",
       "      <td>-0.718117</td>\n",
       "    </tr>\n",
       "    <tr>\n",
       "      <th>manager via</th>\n",
       "      <td>-0.489496</td>\n",
       "      <td>0.953390</td>\n",
       "      <td>-0.667729</td>\n",
       "    </tr>\n",
       "    <tr>\n",
       "      <th>us navy</th>\n",
       "      <td>0.129913</td>\n",
       "      <td>0.565237</td>\n",
       "      <td>-0.661347</td>\n",
       "    </tr>\n",
       "    <tr>\n",
       "      <th>death threats</th>\n",
       "      <td>-0.232458</td>\n",
       "      <td>0.888723</td>\n",
       "      <td>-0.652980</td>\n",
       "    </tr>\n",
       "    <tr>\n",
       "      <th>prince harry</th>\n",
       "      <td>-0.088248</td>\n",
       "      <td>0.760150</td>\n",
       "      <td>-0.650064</td>\n",
       "    </tr>\n",
       "    <tr>\n",
       "      <th>need know</th>\n",
       "      <td>-0.496972</td>\n",
       "      <td>0.940590</td>\n",
       "      <td>-0.620517</td>\n",
       "    </tr>\n",
       "    <tr>\n",
       "      <th>person year</th>\n",
       "      <td>-0.126949</td>\n",
       "      <td>0.732732</td>\n",
       "      <td>-0.617814</td>\n",
       "    </tr>\n",
       "    <tr>\n",
       "      <th>lavar ball</th>\n",
       "      <td>-0.065508</td>\n",
       "      <td>0.700626</td>\n",
       "      <td>-0.613781</td>\n",
       "    </tr>\n",
       "    <tr>\n",
       "      <th>atlanta airport</th>\n",
       "      <td>0.347848</td>\n",
       "      <td>0.303687</td>\n",
       "      <td>-0.610694</td>\n",
       "    </tr>\n",
       "    <tr>\n",
       "      <th>kate steinle</th>\n",
       "      <td>0.073760</td>\n",
       "      <td>0.546416</td>\n",
       "      <td>-0.601786</td>\n",
       "    </tr>\n",
       "    <tr>\n",
       "      <th>...</th>\n",
       "      <td>...</td>\n",
       "      <td>...</td>\n",
       "      <td>...</td>\n",
       "    </tr>\n",
       "    <tr>\n",
       "      <th>paul mns</th>\n",
       "      <td>-0.339939</td>\n",
       "      <td>-0.499765</td>\n",
       "      <td>0.738785</td>\n",
       "    </tr>\n",
       "    <tr>\n",
       "      <th>house press</th>\n",
       "      <td>-0.465566</td>\n",
       "      <td>-0.378288</td>\n",
       "      <td>0.743188</td>\n",
       "    </tr>\n",
       "    <tr>\n",
       "      <th>repeal obamaera</th>\n",
       "      <td>-0.184984</td>\n",
       "      <td>-0.608402</td>\n",
       "      <td>0.751725</td>\n",
       "    </tr>\n",
       "    <tr>\n",
       "      <th>press sec</th>\n",
       "      <td>-0.410612</td>\n",
       "      <td>-0.423331</td>\n",
       "      <td>0.769196</td>\n",
       "    </tr>\n",
       "    <tr>\n",
       "      <th>daytimeemmys nomination</th>\n",
       "      <td>-0.430600</td>\n",
       "      <td>-0.410421</td>\n",
       "      <td>0.769750</td>\n",
       "    </tr>\n",
       "    <tr>\n",
       "      <th>trump says</th>\n",
       "      <td>-0.496761</td>\n",
       "      <td>-0.364875</td>\n",
       "      <td>0.770589</td>\n",
       "    </tr>\n",
       "    <tr>\n",
       "      <th>minneapoliss seeks</th>\n",
       "      <td>-0.352592</td>\n",
       "      <td>-0.561825</td>\n",
       "      <td>0.785615</td>\n",
       "    </tr>\n",
       "    <tr>\n",
       "      <th>live today</th>\n",
       "      <td>-0.437651</td>\n",
       "      <td>-0.489561</td>\n",
       "      <td>0.846286</td>\n",
       "    </tr>\n",
       "    <tr>\n",
       "      <th>nomination outstanding</th>\n",
       "      <td>-0.477842</td>\n",
       "      <td>-0.461345</td>\n",
       "      <td>0.856613</td>\n",
       "    </tr>\n",
       "    <tr>\n",
       "      <th>michael flynn</th>\n",
       "      <td>-0.243207</td>\n",
       "      <td>-0.701651</td>\n",
       "      <td>0.896991</td>\n",
       "    </tr>\n",
       "    <tr>\n",
       "      <th>today thetalk</th>\n",
       "      <td>-0.497910</td>\n",
       "      <td>-0.546841</td>\n",
       "      <td>0.950023</td>\n",
       "    </tr>\n",
       "    <tr>\n",
       "      <th>train derailment</th>\n",
       "      <td>-0.689315</td>\n",
       "      <td>-0.422646</td>\n",
       "      <td>1.025197</td>\n",
       "    </tr>\n",
       "    <tr>\n",
       "      <th>analysis trump</th>\n",
       "      <td>-0.531480</td>\n",
       "      <td>-0.628220</td>\n",
       "      <td>1.096014</td>\n",
       "    </tr>\n",
       "    <tr>\n",
       "      <th>sarah sanders</th>\n",
       "      <td>-0.651771</td>\n",
       "      <td>-0.630255</td>\n",
       "      <td>1.169863</td>\n",
       "    </tr>\n",
       "    <tr>\n",
       "      <th>thanks recent</th>\n",
       "      <td>-0.729957</td>\n",
       "      <td>-0.788690</td>\n",
       "      <td>1.218600</td>\n",
       "    </tr>\n",
       "    <tr>\n",
       "      <th>happy connect</th>\n",
       "      <td>-0.729957</td>\n",
       "      <td>-0.788690</td>\n",
       "      <td>1.218600</td>\n",
       "    </tr>\n",
       "    <tr>\n",
       "      <th>connect great</th>\n",
       "      <td>-0.729957</td>\n",
       "      <td>-0.788690</td>\n",
       "      <td>1.218600</td>\n",
       "    </tr>\n",
       "    <tr>\n",
       "      <th>recent follow</th>\n",
       "      <td>-0.729957</td>\n",
       "      <td>-0.788690</td>\n",
       "      <td>1.218600</td>\n",
       "    </tr>\n",
       "    <tr>\n",
       "      <th>dont miss</th>\n",
       "      <td>-0.695650</td>\n",
       "      <td>-0.640317</td>\n",
       "      <td>1.249766</td>\n",
       "    </tr>\n",
       "    <tr>\n",
       "      <th>st paul</th>\n",
       "      <td>-0.818671</td>\n",
       "      <td>-0.711532</td>\n",
       "      <td>1.330238</td>\n",
       "    </tr>\n",
       "    <tr>\n",
       "      <th>al franken</th>\n",
       "      <td>-0.928616</td>\n",
       "      <td>-0.644929</td>\n",
       "      <td>1.443460</td>\n",
       "    </tr>\n",
       "    <tr>\n",
       "      <th>sneak peek</th>\n",
       "      <td>-0.777807</td>\n",
       "      <td>-0.861714</td>\n",
       "      <td>1.528239</td>\n",
       "    </tr>\n",
       "    <tr>\n",
       "      <th>pres trump</th>\n",
       "      <td>-0.781161</td>\n",
       "      <td>-1.079416</td>\n",
       "      <td>1.675305</td>\n",
       "    </tr>\n",
       "    <tr>\n",
       "      <th>president trump</th>\n",
       "      <td>-1.135271</td>\n",
       "      <td>-0.824429</td>\n",
       "      <td>1.703976</td>\n",
       "    </tr>\n",
       "    <tr>\n",
       "      <th>daily thanks</th>\n",
       "      <td>-1.309934</td>\n",
       "      <td>-1.368128</td>\n",
       "      <td>1.763123</td>\n",
       "    </tr>\n",
       "    <tr>\n",
       "      <th>seeks hire</th>\n",
       "      <td>-1.858677</td>\n",
       "      <td>-0.740782</td>\n",
       "      <td>2.140688</td>\n",
       "    </tr>\n",
       "    <tr>\n",
       "      <th>ryan may</th>\n",
       "      <td>-1.849459</td>\n",
       "      <td>-1.934440</td>\n",
       "      <td>2.510408</td>\n",
       "    </tr>\n",
       "    <tr>\n",
       "      <th>latest mnpr</th>\n",
       "      <td>-1.849459</td>\n",
       "      <td>-1.934440</td>\n",
       "      <td>2.510408</td>\n",
       "    </tr>\n",
       "    <tr>\n",
       "      <th>may daily</th>\n",
       "      <td>-1.849459</td>\n",
       "      <td>-1.934440</td>\n",
       "      <td>2.510408</td>\n",
       "    </tr>\n",
       "    <tr>\n",
       "      <th>mnpr ryan</th>\n",
       "      <td>-1.849459</td>\n",
       "      <td>-1.934440</td>\n",
       "      <td>2.510408</td>\n",
       "    </tr>\n",
       "  </tbody>\n",
       "</table>\n",
       "<p>38934 rows × 3 columns</p>\n",
       "</div>"
      ],
      "text/plain": [
       "                         Breakfast     Lunch    Dinner\n",
       "via minnesota            -2.404740  4.227352 -2.888136\n",
       "minnesota public         -2.118150  3.291181 -2.174884\n",
       "public relations         -1.911889  3.085704 -2.098783\n",
       "matt lauer               -0.275926  1.720166 -1.461177\n",
       "police say                0.819517  0.565238 -1.357091\n",
       "relations blog           -1.291757  1.899286 -1.305269\n",
       "port authority           -0.363520  1.492007 -1.212523\n",
       "public mnpr              -0.742973  1.599786 -1.125761\n",
       "climate change            0.677455  0.447955 -1.066707\n",
       "heres need               -0.398049  1.140580 -0.923689\n",
       "minnesota mnpr           -0.574484  1.367499 -0.913583\n",
       "trumps jerusalem          0.224930  0.641272 -0.831772\n",
       "start day                -0.619883  1.193319 -0.806351\n",
       "know start               -0.619883  1.193319 -0.806351\n",
       "doug jones                0.673163  0.204996 -0.806137\n",
       "southern california       0.265177  0.581811 -0.789892\n",
       "north korean              0.710495  0.115319 -0.786913\n",
       "accused sexual            0.627281  0.166688 -0.752455\n",
       "police officer            0.202768  0.569314 -0.745825\n",
       "tax overhaul              0.067818  0.712035 -0.743644\n",
       "century fox              -0.455470  1.145065 -0.718117\n",
       "manager via              -0.489496  0.953390 -0.667729\n",
       "us navy                   0.129913  0.565237 -0.661347\n",
       "death threats            -0.232458  0.888723 -0.652980\n",
       "prince harry             -0.088248  0.760150 -0.650064\n",
       "need know                -0.496972  0.940590 -0.620517\n",
       "person year              -0.126949  0.732732 -0.617814\n",
       "lavar ball               -0.065508  0.700626 -0.613781\n",
       "atlanta airport           0.347848  0.303687 -0.610694\n",
       "kate steinle              0.073760  0.546416 -0.601786\n",
       "...                            ...       ...       ...\n",
       "paul mns                 -0.339939 -0.499765  0.738785\n",
       "house press              -0.465566 -0.378288  0.743188\n",
       "repeal obamaera          -0.184984 -0.608402  0.751725\n",
       "press sec                -0.410612 -0.423331  0.769196\n",
       "daytimeemmys nomination  -0.430600 -0.410421  0.769750\n",
       "trump says               -0.496761 -0.364875  0.770589\n",
       "minneapoliss seeks       -0.352592 -0.561825  0.785615\n",
       "live today               -0.437651 -0.489561  0.846286\n",
       "nomination outstanding   -0.477842 -0.461345  0.856613\n",
       "michael flynn            -0.243207 -0.701651  0.896991\n",
       "today thetalk            -0.497910 -0.546841  0.950023\n",
       "train derailment         -0.689315 -0.422646  1.025197\n",
       "analysis trump           -0.531480 -0.628220  1.096014\n",
       "sarah sanders            -0.651771 -0.630255  1.169863\n",
       "thanks recent            -0.729957 -0.788690  1.218600\n",
       "happy connect            -0.729957 -0.788690  1.218600\n",
       "connect great            -0.729957 -0.788690  1.218600\n",
       "recent follow            -0.729957 -0.788690  1.218600\n",
       "dont miss                -0.695650 -0.640317  1.249766\n",
       "st paul                  -0.818671 -0.711532  1.330238\n",
       "al franken               -0.928616 -0.644929  1.443460\n",
       "sneak peek               -0.777807 -0.861714  1.528239\n",
       "pres trump               -0.781161 -1.079416  1.675305\n",
       "president trump          -1.135271 -0.824429  1.703976\n",
       "daily thanks             -1.309934 -1.368128  1.763123\n",
       "seeks hire               -1.858677 -0.740782  2.140688\n",
       "ryan may                 -1.849459 -1.934440  2.510408\n",
       "latest mnpr              -1.849459 -1.934440  2.510408\n",
       "may daily                -1.849459 -1.934440  2.510408\n",
       "mnpr ryan                -1.849459 -1.934440  2.510408\n",
       "\n",
       "[38934 rows x 3 columns]"
      ]
     },
     "execution_count": 309,
     "metadata": {},
     "output_type": "execute_result"
    }
   ],
   "source": [
    "pd.DataFrame(lr.coef_,columns= tfidf.get_feature_names(), index=['Breakfast', 'Lunch', 'Dinner']).T.sort_values(by='Dinner')"
   ]
  },
  {
   "cell_type": "code",
   "execution_count": null,
   "metadata": {
    "collapsed": true
   },
   "outputs": [],
   "source": []
  },
  {
   "cell_type": "code",
   "execution_count": null,
   "metadata": {
    "collapsed": true
   },
   "outputs": [],
   "source": []
  },
  {
   "cell_type": "markdown",
   "metadata": {},
   "source": [
    "###  Neural Networks using Keras"
   ]
  },
  {
   "cell_type": "code",
   "execution_count": 141,
   "metadata": {},
   "outputs": [
    {
     "name": "stderr",
     "output_type": "stream",
     "text": [
      "Using TensorFlow backend.\n",
      "//anaconda/envs/py36/lib/python3.6/importlib/_bootstrap.py:205: RuntimeWarning: compiletime version 3.5 of module 'tensorflow.python.framework.fast_tensor_util' does not match runtime version 3.6\n",
      "  return f(*args, **kwds)\n"
     ]
    }
   ],
   "source": [
    "from sklearn.preprocessing import StandardScaler\n",
    "from sklearn.model_selection import cross_val_score, GridSearchCV, train_test_split\n",
    "\n",
    "from keras.models import Sequential\n",
    "from keras.layers import Dense, Dropout\n",
    "from keras.utils import to_categorical\n",
    "from keras.wrappers.scikit_learn import KerasClassifier"
   ]
  },
  {
   "cell_type": "code",
   "execution_count": null,
   "metadata": {},
   "outputs": [],
   "source": []
  },
  {
   "cell_type": "code",
   "execution_count": 310,
   "metadata": {},
   "outputs": [],
   "source": [
    "X_train,X_test, y_train,y_test = train_test_split(X, y,random_state=2017)\n",
    "tfidf = TfidfVectorizer(ngram_range=(1,1))\n",
    "\n",
    "X_train = tfidf.fit_transform(X_train) #sparse matrix\n",
    "X_test = tfidf.transform(X_test)\n",
    "y_train = to_categorical(y_train)\n",
    "y_test_cat = to_categorical(y_test)\n",
    "\n",
    "X_train = X_train.todense() # transform back to regular numpy array\n",
    "X_test = X_test.todense()"
   ]
  },
  {
   "cell_type": "code",
   "execution_count": 311,
   "metadata": {
    "collapsed": true
   },
   "outputs": [],
   "source": [
    "#pd.DataFrame(X_train.todense(), columns=tfidf.get_feature_names())"
   ]
  },
  {
   "cell_type": "code",
   "execution_count": 312,
   "metadata": {},
   "outputs": [
    {
     "name": "stdout",
     "output_type": "stream",
     "text": [
      "Train on 6150 samples, validate on 2050 samples\n",
      "Epoch 1/20\n",
      "6150/6150 [==============================] - 3s 456us/step - loss: 1.3465 - acc: 0.4476 - val_loss: 1.2892 - val_acc: 0.4580\n",
      "Epoch 2/20\n",
      "6150/6150 [==============================] - 1s 241us/step - loss: 1.2278 - acc: 0.4642 - val_loss: 1.1535 - val_acc: 0.4854\n",
      "Epoch 3/20\n",
      "6150/6150 [==============================] - 1s 229us/step - loss: 1.1055 - acc: 0.4875 - val_loss: 1.0616 - val_acc: 0.4980\n",
      "Epoch 4/20\n",
      "6150/6150 [==============================] - 1s 233us/step - loss: 1.0145 - acc: 0.5285 - val_loss: 1.0035 - val_acc: 0.5102\n",
      "Epoch 5/20\n",
      "6150/6150 [==============================] - 1s 242us/step - loss: 0.9286 - acc: 0.5865 - val_loss: 0.9754 - val_acc: 0.5117\n",
      "Epoch 6/20\n",
      "6150/6150 [==============================] - 1s 234us/step - loss: 0.8583 - acc: 0.6184 - val_loss: 0.9723 - val_acc: 0.5000\n",
      "Epoch 7/20\n",
      "6150/6150 [==============================] - 1s 232us/step - loss: 0.7982 - acc: 0.6433 - val_loss: 0.9736 - val_acc: 0.5073\n",
      "Epoch 8/20\n",
      "6150/6150 [==============================] - 1s 237us/step - loss: 0.7328 - acc: 0.6680 - val_loss: 0.9915 - val_acc: 0.5083\n",
      "Epoch 9/20\n",
      "6150/6150 [==============================] - 1s 233us/step - loss: 0.6854 - acc: 0.6899 - val_loss: 1.0163 - val_acc: 0.5059\n",
      "Epoch 10/20\n",
      "6150/6150 [==============================] - 1s 226us/step - loss: 0.6367 - acc: 0.7166 - val_loss: 1.0444 - val_acc: 0.5010\n",
      "Epoch 11/20\n",
      "6150/6150 [==============================] - 2s 244us/step - loss: 0.5956 - acc: 0.7486 - val_loss: 1.0804 - val_acc: 0.5054\n",
      "Epoch 12/20\n",
      "6150/6150 [==============================] - 1s 228us/step - loss: 0.5595 - acc: 0.7628 - val_loss: 1.1184 - val_acc: 0.5059\n",
      "Epoch 13/20\n",
      "6150/6150 [==============================] - 1s 236us/step - loss: 0.5265 - acc: 0.7847 - val_loss: 1.1614 - val_acc: 0.5049\n",
      "Epoch 14/20\n",
      "6150/6150 [==============================] - 1s 236us/step - loss: 0.4960 - acc: 0.8140 - val_loss: 1.2195 - val_acc: 0.5010\n",
      "Epoch 15/20\n",
      "6150/6150 [==============================] - 1s 234us/step - loss: 0.4689 - acc: 0.8215 - val_loss: 1.2692 - val_acc: 0.5000\n",
      "Epoch 16/20\n",
      "6150/6150 [==============================] - 1s 237us/step - loss: 0.4457 - acc: 0.8371 - val_loss: 1.3272 - val_acc: 0.5024\n",
      "Epoch 17/20\n",
      "6150/6150 [==============================] - 1s 237us/step - loss: 0.4248 - acc: 0.8423 - val_loss: 1.3775 - val_acc: 0.4985\n",
      "Epoch 18/20\n",
      "6150/6150 [==============================] - 1s 233us/step - loss: 0.3999 - acc: 0.8519 - val_loss: 1.4342 - val_acc: 0.4990\n",
      "Epoch 19/20\n",
      "6150/6150 [==============================] - 2s 254us/step - loss: 0.3844 - acc: 0.8633 - val_loss: 1.4920 - val_acc: 0.5029\n",
      "Epoch 20/20\n",
      "6150/6150 [==============================] - 1s 223us/step - loss: 0.3693 - acc: 0.8654 - val_loss: 1.5245 - val_acc: 0.4961\n"
     ]
    },
    {
     "data": {
      "text/plain": [
       "<keras.callbacks.History at 0x1ce6afa978>"
      ]
     },
     "execution_count": 312,
     "metadata": {},
     "output_type": "execute_result"
    }
   ],
   "source": [
    "model = Sequential()\n",
    "model.add(Dense(10, input_dim=X_train.shape[1],activation='relu'))\n",
    "model.add(Dropout(.5))\n",
    "model.add(Dense(5, activation='relu'))\n",
    "model.add(Dense(y_train.shape[1], activation='softmax'))\n",
    "\n",
    "model.compile(optimizer='adam', loss='categorical_crossentropy', metrics=['accuracy'])\n",
    "\n",
    "model.fit(X_train, y_train, validation_data=(X_test, y_test_cat), epochs=20, batch_size=70)"
   ]
  },
  {
   "cell_type": "code",
   "execution_count": 211,
   "metadata": {},
   "outputs": [],
   "source": [
    "#preds = model.predict_classes(X_test)\n"
   ]
  },
  {
   "cell_type": "code",
   "execution_count": 212,
   "metadata": {},
   "outputs": [],
   "source": [
    "#accuracy_score(y_test,preds)"
   ]
  },
  {
   "cell_type": "code",
   "execution_count": 213,
   "metadata": {
    "scrolled": true
   },
   "outputs": [],
   "source": [
    "#confusion_matrix(y_test, preds)"
   ]
  },
  {
   "cell_type": "code",
   "execution_count": 214,
   "metadata": {},
   "outputs": [
    {
     "data": {
      "text/plain": [
       "array([3, 3, 3, ..., 3, 2, 3])"
      ]
     },
     "execution_count": 214,
     "metadata": {},
     "output_type": "execute_result"
    }
   ],
   "source": [
    "ypreds"
   ]
  },
  {
   "cell_type": "code",
   "execution_count": 313,
   "metadata": {},
   "outputs": [
    {
     "name": "stdout",
     "output_type": "stream",
     "text": [
      "0.496097560976\n",
      "             precision    recall  f1-score   support\n",
      "\n",
      "          1       0.35      0.35      0.35       532\n",
      "          2       0.44      0.46      0.45       579\n",
      "          3       0.62      0.60      0.61       939\n",
      "\n",
      "avg / total       0.50      0.50      0.50      2050\n",
      "\n",
      "     1    2    3\n",
      "1  188  171  173\n",
      "2  141  267  171\n",
      "3  203  174  562\n"
     ]
    }
   ],
   "source": [
    "ypreds = model.predict_classes(X_test)\n",
    "conmat_1 = confusion_matrix(y_test, ypreds, labels=[1,2,3])\n",
    "conmat_1 = pd.DataFrame(conmat_1, columns=[1,2,3], index=[1,2,3])\n",
    "print(accuracy_score(y_test,ypreds))\n",
    "scoring_dict['Neural Networks Keras'] = float(accuracy_score(y_test,ypreds))\n",
    "print(classification_report(y_test,ypreds))\n",
    "print( conmat_1)"
   ]
  },
  {
   "cell_type": "code",
   "execution_count": 225,
   "metadata": {
    "scrolled": true
   },
   "outputs": [
    {
     "data": {
      "text/plain": [
       "{'Adaboost model': 0.50682926829268293,\n",
       " 'Gradient Boosting model': 0.51804878048780489,\n",
       " 'Logistic Regression': 0.51365853658536587,\n",
       " 'Naive Bayes Accuracy': 0.51951219512195124,\n",
       " 'Naive Bayes Accuracy_2_4': 0.51512195121951221,\n",
       " 'Neural Networks Keras': 0.51560975609756099,\n",
       " 'Random Forest models': 0.49414634146341463,\n",
       " 'Random Forest models_1_2': 0.50536585365853659,\n",
       " 'Random Forest models_2_2': 0.50926829268292684,\n",
       " 'Support Vector Machine': 0.35804878048780486}"
      ]
     },
     "execution_count": 225,
     "metadata": {},
     "output_type": "execute_result"
    }
   ],
   "source": [
    "scoring_dict"
   ]
  },
  {
   "cell_type": "code",
   "execution_count": 233,
   "metadata": {
    "collapsed": true
   },
   "outputs": [],
   "source": [
    "scoring_dict = scoring_dict2 "
   ]
  },
  {
   "cell_type": "code",
   "execution_count": 324,
   "metadata": {
    "scrolled": true
   },
   "outputs": [],
   "source": [
    "Model = pd.DataFrame(data=list(scoring_dict.values()), index=list(scoring_dict.keys()))"
   ]
  },
  {
   "cell_type": "code",
   "execution_count": 339,
   "metadata": {},
   "outputs": [],
   "source": [
    "#Model.sort_values(by=0, ascending=False).plot(kind='bar', legend=False)"
   ]
  },
  {
   "cell_type": "code",
   "execution_count": 338,
   "metadata": {},
   "outputs": [
    {
     "data": {
      "text/plain": [
       "<matplotlib.text.Text at 0x1d5ee44240>"
      ]
     },
     "execution_count": 338,
     "metadata": {},
     "output_type": "execute_result"
    },
    {
     "data": {
      "image/png": "[encoded data removed]",
      "text/plain": [
       "<matplotlib.figure.Figure at 0x1cf5e537b8>"
      ]
     },
     "metadata": {},
     "output_type": "display_data"
    }
   ],
   "source": [
    "\n",
    "ax = Model.sort_values(by=0, ascending=False).plot(kind='bar', legend=False)\n",
    "\n",
    "ax.set_ylim(top=1)\n",
    "ax.set_title('Different Models') \n",
    "ax.set_ylabel('Accuracy Score')"
   ]
  },
  {
   "cell_type": "markdown",
   "metadata": {},
   "source": [
    "Because the there is no separation of the classes, We noticed that the models are mostly similar"
   ]
  }
 ],
 "metadata": {
  "kernelspec": {
   "display_name": "Python 3",
   "language": "python",
   "name": "python3"
  },
  "language_info": {
   "codemirror_mode": {
    "name": "ipython",
    "version": 3
   },
   "file_extension": ".py",
   "mimetype": "text/x-python",
   "name": "python",
   "nbconvert_exporter": "python",
   "pygments_lexer": "ipython3",
   "version": "3.6.2"
  }
 },
 "nbformat": 4,
 "nbformat_minor": 2
}
